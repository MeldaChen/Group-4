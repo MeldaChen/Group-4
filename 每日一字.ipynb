{
  "nbformat": 4,
  "nbformat_minor": 0,
  "metadata": {
    "colab": {
      "provenance": [],
      "authorship_tag": "ABX9TyPwXVLv2DdFR1gOBxKC5p6p",
      "include_colab_link": true
    },
    "kernelspec": {
      "name": "python3",
      "display_name": "Python 3"
    },
    "language_info": {
      "name": "python"
    }
  },
  "cells": [
    {
      "cell_type": "markdown",
      "metadata": {
        "id": "view-in-github",
        "colab_type": "text"
      },
      "source": [
        "<a href=\"https://colab.research.google.com/github/MeldaChen/Group-4/blob/main/%E6%AF%8F%E6%97%A5%E4%B8%80%E5%AD%97.ipynb\" target=\"_parent\"><img src=\"https://colab.research.google.com/assets/colab-badge.svg\" alt=\"Open In Colab\"/></a>"
      ]
    },
    {
      "cell_type": "code",
      "execution_count": 96,
      "metadata": {
        "colab": {
          "base_uri": "https://localhost:8080/"
        },
        "id": "bzPdFty6PviA",
        "outputId": "907bbe3c-81a0-426f-bd9a-e06b60f52527"
      },
      "outputs": [
        {
          "output_type": "stream",
          "name": "stdout",
          "text": [
            "國\n"
          ]
        }
      ],
      "source": [
        "from datetime import date\n",
        "\n",
        "d0 = date(2022, 1, 1)\n",
        "\n",
        "today = date.today()\n",
        "d1 = today.strftime(\"%Y%m%d\") # 算出來是 UTC+0 的時間，如20221129，台灣是 UTC+8，所以台灣每天早上8點之後算換日，每日一字才會更新\n",
        "a = int(str(d1[:4]))\n",
        "b = int(str(d1[4:6]))\n",
        "c = int(str(d1[6:8])) \n",
        "\n",
        "d1_transfer = date(a, b, c)\n",
        "delta = d1_transfer - d0 # 算出今天跟元旦相差幾天\n",
        "\n",
        "daily_dict = {0:\"者\",1:\"我\",2:\"國\",3:\"來\",4:\"面\",5:\"過\",6:\"為\",7:\"大\",8:\"成\",9:\"民\"} #相差的天數除10所得到的餘數可轉換成字典的0-9\n",
        "word_today = daily_dict[delta.days%10]\n",
        "print(word_today) # 最終輸出 word_today，請使用者練習"
      ]
    }
  ]
}