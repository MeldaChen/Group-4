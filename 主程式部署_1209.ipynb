{
  "nbformat": 4,
  "nbformat_minor": 0,
  "metadata": {
    "colab": {
      "provenance": [],
      "include_colab_link": true
    },
    "kernelspec": {
      "name": "python3",
      "display_name": "Python 3"
    },
    "language_info": {
      "name": "python"
    }
  },
  "cells": [
    {
      "cell_type": "markdown",
      "metadata": {
        "id": "view-in-github",
        "colab_type": "text"
      },
      "source": [
        "<a href=\"https://colab.research.google.com/github/MeldaChen/Group-4/blob/main/%E4%B8%BB%E7%A8%8B%E5%BC%8F%E9%83%A8%E7%BD%B2_1209.ipynb\" target=\"_parent\"><img src=\"https://colab.research.google.com/assets/colab-badge.svg\" alt=\"Open In Colab\"/></a>"
      ]
    },
    {
      "cell_type": "code",
      "execution_count": null,
      "metadata": {
        "colab": {
          "base_uri": "https://localhost:8080/"
        },
        "id": "QazSAF2Wetns",
        "outputId": "102ab8e7-7c99-4350-fb8e-356dd56c67a0"
      },
      "outputs": [
        {
          "output_type": "stream",
          "name": "stdout",
          "text": [
            "Drive already mounted at /content/drive; to attempt to forcibly remount, call drive.mount(\"/content/drive\", force_remount=True).\n"
          ]
        }
      ],
      "source": [
        "from google.colab import drive\n",
        "drive.mount('/content/drive')"
      ]
    },
    {
      "cell_type": "code",
      "source": [
        "!pip install line-bot-sdk flask flask-ngrok"
      ],
      "metadata": {
        "colab": {
          "base_uri": "https://localhost:8080/"
        },
        "id": "Sd2FVpR9exER",
        "outputId": "b6e83e40-fb7e-4b5e-a20d-746bf83fdfee"
      },
      "execution_count": null,
      "outputs": [
        {
          "output_type": "stream",
          "name": "stdout",
          "text": [
            "Looking in indexes: https://pypi.org/simple, https://us-python.pkg.dev/colab-wheels/public/simple/\n",
            "Requirement already satisfied: line-bot-sdk in /usr/local/lib/python3.8/dist-packages (2.3.0)\n",
            "Requirement already satisfied: flask in /usr/local/lib/python3.8/dist-packages (1.1.4)\n",
            "Requirement already satisfied: flask-ngrok in /usr/local/lib/python3.8/dist-packages (0.0.25)\n",
            "Requirement already satisfied: future in /usr/local/lib/python3.8/dist-packages (from line-bot-sdk) (0.16.0)\n",
            "Requirement already satisfied: requests>=2.0 in /usr/local/lib/python3.8/dist-packages (from line-bot-sdk) (2.23.0)\n",
            "Requirement already satisfied: aiohttp>=3.7.4 in /usr/local/lib/python3.8/dist-packages (from line-bot-sdk) (3.8.3)\n",
            "Requirement already satisfied: attrs>=17.3.0 in /usr/local/lib/python3.8/dist-packages (from aiohttp>=3.7.4->line-bot-sdk) (22.1.0)\n",
            "Requirement already satisfied: async-timeout<5.0,>=4.0.0a3 in /usr/local/lib/python3.8/dist-packages (from aiohttp>=3.7.4->line-bot-sdk) (4.0.2)\n",
            "Requirement already satisfied: charset-normalizer<3.0,>=2.0 in /usr/local/lib/python3.8/dist-packages (from aiohttp>=3.7.4->line-bot-sdk) (2.1.1)\n",
            "Requirement already satisfied: yarl<2.0,>=1.0 in /usr/local/lib/python3.8/dist-packages (from aiohttp>=3.7.4->line-bot-sdk) (1.8.1)\n",
            "Requirement already satisfied: aiosignal>=1.1.2 in /usr/local/lib/python3.8/dist-packages (from aiohttp>=3.7.4->line-bot-sdk) (1.3.1)\n",
            "Requirement already satisfied: frozenlist>=1.1.1 in /usr/local/lib/python3.8/dist-packages (from aiohttp>=3.7.4->line-bot-sdk) (1.3.3)\n",
            "Requirement already satisfied: multidict<7.0,>=4.5 in /usr/local/lib/python3.8/dist-packages (from aiohttp>=3.7.4->line-bot-sdk) (6.0.2)\n",
            "Requirement already satisfied: chardet<4,>=3.0.2 in /usr/local/lib/python3.8/dist-packages (from requests>=2.0->line-bot-sdk) (3.0.4)\n",
            "Requirement already satisfied: certifi>=2017.4.17 in /usr/local/lib/python3.8/dist-packages (from requests>=2.0->line-bot-sdk) (2022.9.24)\n",
            "Requirement already satisfied: idna<3,>=2.5 in /usr/local/lib/python3.8/dist-packages (from requests>=2.0->line-bot-sdk) (2.10)\n",
            "Requirement already satisfied: urllib3!=1.25.0,!=1.25.1,<1.26,>=1.21.1 in /usr/local/lib/python3.8/dist-packages (from requests>=2.0->line-bot-sdk) (1.24.3)\n",
            "Requirement already satisfied: Jinja2<3.0,>=2.10.1 in /usr/local/lib/python3.8/dist-packages (from flask) (2.11.3)\n",
            "Requirement already satisfied: itsdangerous<2.0,>=0.24 in /usr/local/lib/python3.8/dist-packages (from flask) (1.1.0)\n",
            "Requirement already satisfied: Werkzeug<2.0,>=0.15 in /usr/local/lib/python3.8/dist-packages (from flask) (1.0.1)\n",
            "Requirement already satisfied: click<8.0,>=5.1 in /usr/local/lib/python3.8/dist-packages (from flask) (7.1.2)\n",
            "Requirement already satisfied: MarkupSafe>=0.23 in /usr/local/lib/python3.8/dist-packages (from Jinja2<3.0,>=2.10.1->flask) (2.0.1)\n"
          ]
        }
      ]
    },
    {
      "cell_type": "code",
      "source": [
        "!python3 -m pip install paddlepaddle -i https://mirror.baidu.com/pypi/simple"
      ],
      "metadata": {
        "colab": {
          "base_uri": "https://localhost:8080/"
        },
        "id": "4cx5JThcPw1h",
        "outputId": "2b6b742c-098a-47f9-9a69-ae8c22e2a218"
      },
      "execution_count": null,
      "outputs": [
        {
          "output_type": "stream",
          "name": "stdout",
          "text": [
            "Looking in indexes: https://mirror.baidu.com/pypi/simple, https://us-python.pkg.dev/colab-wheels/public/simple/\n",
            "Requirement already satisfied: paddlepaddle in /usr/local/lib/python3.8/dist-packages (2.4.0)\n",
            "Requirement already satisfied: astor in /usr/local/lib/python3.8/dist-packages (from paddlepaddle) (0.8.1)\n",
            "Requirement already satisfied: requests>=2.20.0 in /usr/local/lib/python3.8/dist-packages (from paddlepaddle) (2.23.0)\n",
            "Requirement already satisfied: numpy>=1.13 in /usr/local/lib/python3.8/dist-packages (from paddlepaddle) (1.21.6)\n",
            "Requirement already satisfied: paddle-bfloat==0.1.7 in /usr/local/lib/python3.8/dist-packages (from paddlepaddle) (0.1.7)\n",
            "Requirement already satisfied: decorator in /usr/local/lib/python3.8/dist-packages (from paddlepaddle) (4.4.2)\n",
            "Requirement already satisfied: opt-einsum==3.3.0 in /usr/local/lib/python3.8/dist-packages (from paddlepaddle) (3.3.0)\n",
            "Requirement already satisfied: protobuf<=3.20.0,>=3.1.0 in /usr/local/lib/python3.8/dist-packages (from paddlepaddle) (3.19.6)\n",
            "Requirement already satisfied: Pillow in /usr/local/lib/python3.8/dist-packages (from paddlepaddle) (7.1.2)\n",
            "Requirement already satisfied: six in /usr/local/lib/python3.8/dist-packages (from paddlepaddle) (1.15.0)\n",
            "Requirement already satisfied: urllib3!=1.25.0,!=1.25.1,<1.26,>=1.21.1 in /usr/local/lib/python3.8/dist-packages (from requests>=2.20.0->paddlepaddle) (1.24.3)\n",
            "Requirement already satisfied: chardet<4,>=3.0.2 in /usr/local/lib/python3.8/dist-packages (from requests>=2.20.0->paddlepaddle) (3.0.4)\n",
            "Requirement already satisfied: idna<3,>=2.5 in /usr/local/lib/python3.8/dist-packages (from requests>=2.20.0->paddlepaddle) (2.10)\n",
            "Requirement already satisfied: certifi>=2017.4.17 in /usr/local/lib/python3.8/dist-packages (from requests>=2.20.0->paddlepaddle) (2022.9.24)\n"
          ]
        }
      ]
    },
    {
      "cell_type": "code",
      "source": [
        "pip install \"paddleocr>=2.0.1\""
      ],
      "metadata": {
        "colab": {
          "base_uri": "https://localhost:8080/"
        },
        "id": "kb0FEPfNPxCs",
        "outputId": "3ee3cf39-215d-4209-8b68-fbb58275e428"
      },
      "execution_count": null,
      "outputs": [
        {
          "output_type": "stream",
          "name": "stdout",
          "text": [
            "Looking in indexes: https://pypi.org/simple, https://us-python.pkg.dev/colab-wheels/public/simple/\n",
            "Requirement already satisfied: paddleocr>=2.0.1 in /usr/local/lib/python3.8/dist-packages (2.6.1.1)\n",
            "Requirement already satisfied: python-docx in /usr/local/lib/python3.8/dist-packages (from paddleocr>=2.0.1) (0.8.11)\n",
            "Requirement already satisfied: opencv-contrib-python in /usr/local/lib/python3.8/dist-packages (from paddleocr>=2.0.1) (4.6.0.66)\n",
            "Requirement already satisfied: shapely in /usr/local/lib/python3.8/dist-packages (from paddleocr>=2.0.1) (1.8.5.post1)\n",
            "Requirement already satisfied: lxml in /usr/local/lib/python3.8/dist-packages (from paddleocr>=2.0.1) (4.9.1)\n",
            "Requirement already satisfied: fire>=0.3.0 in /usr/local/lib/python3.8/dist-packages (from paddleocr>=2.0.1) (0.4.0)\n",
            "Requirement already satisfied: premailer in /usr/local/lib/python3.8/dist-packages (from paddleocr>=2.0.1) (3.10.0)\n",
            "Requirement already satisfied: scikit-image in /usr/local/lib/python3.8/dist-packages (from paddleocr>=2.0.1) (0.18.3)\n",
            "Requirement already satisfied: pyclipper in /usr/local/lib/python3.8/dist-packages (from paddleocr>=2.0.1) (1.3.0.post4)\n",
            "Requirement already satisfied: cython in /usr/local/lib/python3.8/dist-packages (from paddleocr>=2.0.1) (0.29.32)\n",
            "Requirement already satisfied: PyMuPDF<1.21.0 in /usr/local/lib/python3.8/dist-packages (from paddleocr>=2.0.1) (1.20.2)\n",
            "Requirement already satisfied: attrdict in /usr/local/lib/python3.8/dist-packages (from paddleocr>=2.0.1) (2.0.1)\n",
            "Requirement already satisfied: fonttools>=4.24.0 in /usr/local/lib/python3.8/dist-packages (from paddleocr>=2.0.1) (4.38.0)\n",
            "Requirement already satisfied: opencv-python in /usr/local/lib/python3.8/dist-packages (from paddleocr>=2.0.1) (4.6.0.66)\n",
            "Requirement already satisfied: numpy in /usr/local/lib/python3.8/dist-packages (from paddleocr>=2.0.1) (1.21.6)\n",
            "Requirement already satisfied: visualdl in /usr/local/lib/python3.8/dist-packages (from paddleocr>=2.0.1) (2.4.1)\n",
            "Requirement already satisfied: openpyxl in /usr/local/lib/python3.8/dist-packages (from paddleocr>=2.0.1) (3.0.10)\n",
            "Requirement already satisfied: beautifulsoup4 in /usr/local/lib/python3.8/dist-packages (from paddleocr>=2.0.1) (4.6.3)\n",
            "Requirement already satisfied: pdf2docx in /usr/local/lib/python3.8/dist-packages (from paddleocr>=2.0.1) (0.5.6)\n",
            "Requirement already satisfied: tqdm in /usr/local/lib/python3.8/dist-packages (from paddleocr>=2.0.1) (4.64.1)\n",
            "Requirement already satisfied: lmdb in /usr/local/lib/python3.8/dist-packages (from paddleocr>=2.0.1) (0.99)\n",
            "Requirement already satisfied: rapidfuzz in /usr/local/lib/python3.8/dist-packages (from paddleocr>=2.0.1) (2.13.2)\n",
            "Requirement already satisfied: imgaug in /usr/local/lib/python3.8/dist-packages (from paddleocr>=2.0.1) (0.4.0)\n",
            "Requirement already satisfied: termcolor in /usr/local/lib/python3.8/dist-packages (from fire>=0.3.0->paddleocr>=2.0.1) (2.1.1)\n",
            "Requirement already satisfied: six in /usr/local/lib/python3.8/dist-packages (from fire>=0.3.0->paddleocr>=2.0.1) (1.15.0)\n",
            "Requirement already satisfied: scipy in /usr/local/lib/python3.8/dist-packages (from imgaug->paddleocr>=2.0.1) (1.7.3)\n",
            "Requirement already satisfied: Pillow in /usr/local/lib/python3.8/dist-packages (from imgaug->paddleocr>=2.0.1) (7.1.2)\n",
            "Requirement already satisfied: matplotlib in /usr/local/lib/python3.8/dist-packages (from imgaug->paddleocr>=2.0.1) (3.2.2)\n",
            "Requirement already satisfied: imageio in /usr/local/lib/python3.8/dist-packages (from imgaug->paddleocr>=2.0.1) (2.9.0)\n",
            "Requirement already satisfied: tifffile>=2019.7.26 in /usr/local/lib/python3.8/dist-packages (from scikit-image->paddleocr>=2.0.1) (2021.11.2)\n",
            "Requirement already satisfied: PyWavelets>=1.1.1 in /usr/local/lib/python3.8/dist-packages (from scikit-image->paddleocr>=2.0.1) (1.3.0)\n",
            "Requirement already satisfied: networkx>=2.0 in /usr/local/lib/python3.8/dist-packages (from scikit-image->paddleocr>=2.0.1) (2.6.3)\n",
            "Requirement already satisfied: python-dateutil>=2.1 in /usr/local/lib/python3.8/dist-packages (from matplotlib->imgaug->paddleocr>=2.0.1) (2.8.2)\n",
            "Requirement already satisfied: kiwisolver>=1.0.1 in /usr/local/lib/python3.8/dist-packages (from matplotlib->imgaug->paddleocr>=2.0.1) (1.4.4)\n",
            "Requirement already satisfied: pyparsing!=2.0.4,!=2.1.2,!=2.1.6,>=2.0.1 in /usr/local/lib/python3.8/dist-packages (from matplotlib->imgaug->paddleocr>=2.0.1) (3.0.9)\n",
            "Requirement already satisfied: cycler>=0.10 in /usr/local/lib/python3.8/dist-packages (from matplotlib->imgaug->paddleocr>=2.0.1) (0.11.0)\n",
            "Requirement already satisfied: et-xmlfile in /usr/local/lib/python3.8/dist-packages (from openpyxl->paddleocr>=2.0.1) (1.1.0)\n",
            "Requirement already satisfied: cssutils in /usr/local/lib/python3.8/dist-packages (from premailer->paddleocr>=2.0.1) (2.6.0)\n",
            "Requirement already satisfied: requests in /usr/local/lib/python3.8/dist-packages (from premailer->paddleocr>=2.0.1) (2.23.0)\n",
            "Requirement already satisfied: cachetools in /usr/local/lib/python3.8/dist-packages (from premailer->paddleocr>=2.0.1) (5.2.0)\n",
            "Requirement already satisfied: cssselect in /usr/local/lib/python3.8/dist-packages (from premailer->paddleocr>=2.0.1) (1.2.0)\n",
            "Requirement already satisfied: idna<3,>=2.5 in /usr/local/lib/python3.8/dist-packages (from requests->premailer->paddleocr>=2.0.1) (2.10)\n",
            "Requirement already satisfied: certifi>=2017.4.17 in /usr/local/lib/python3.8/dist-packages (from requests->premailer->paddleocr>=2.0.1) (2022.9.24)\n",
            "Requirement already satisfied: urllib3!=1.25.0,!=1.25.1,<1.26,>=1.21.1 in /usr/local/lib/python3.8/dist-packages (from requests->premailer->paddleocr>=2.0.1) (1.24.3)\n",
            "Requirement already satisfied: chardet<4,>=3.0.2 in /usr/local/lib/python3.8/dist-packages (from requests->premailer->paddleocr>=2.0.1) (3.0.4)\n",
            "Requirement already satisfied: pandas in /usr/local/lib/python3.8/dist-packages (from visualdl->paddleocr>=2.0.1) (1.3.5)\n",
            "Requirement already satisfied: flask>=1.1.1 in /usr/local/lib/python3.8/dist-packages (from visualdl->paddleocr>=2.0.1) (1.1.4)\n",
            "Requirement already satisfied: protobuf>=3.11.0 in /usr/local/lib/python3.8/dist-packages (from visualdl->paddleocr>=2.0.1) (3.19.6)\n",
            "Requirement already satisfied: packaging in /usr/local/lib/python3.8/dist-packages (from visualdl->paddleocr>=2.0.1) (21.3)\n",
            "Requirement already satisfied: multiprocess in /usr/local/lib/python3.8/dist-packages (from visualdl->paddleocr>=2.0.1) (0.70.14)\n",
            "Requirement already satisfied: bce-python-sdk in /usr/local/lib/python3.8/dist-packages (from visualdl->paddleocr>=2.0.1) (0.8.74)\n",
            "Requirement already satisfied: Flask-Babel>=1.0.0 in /usr/local/lib/python3.8/dist-packages (from visualdl->paddleocr>=2.0.1) (2.0.0)\n",
            "Requirement already satisfied: Werkzeug<2.0,>=0.15 in /usr/local/lib/python3.8/dist-packages (from flask>=1.1.1->visualdl->paddleocr>=2.0.1) (1.0.1)\n",
            "Requirement already satisfied: Jinja2<3.0,>=2.10.1 in /usr/local/lib/python3.8/dist-packages (from flask>=1.1.1->visualdl->paddleocr>=2.0.1) (2.11.3)\n",
            "Requirement already satisfied: itsdangerous<2.0,>=0.24 in /usr/local/lib/python3.8/dist-packages (from flask>=1.1.1->visualdl->paddleocr>=2.0.1) (1.1.0)\n",
            "Requirement already satisfied: click<8.0,>=5.1 in /usr/local/lib/python3.8/dist-packages (from flask>=1.1.1->visualdl->paddleocr>=2.0.1) (7.1.2)\n",
            "Requirement already satisfied: pytz in /usr/local/lib/python3.8/dist-packages (from Flask-Babel>=1.0.0->visualdl->paddleocr>=2.0.1) (2022.6)\n",
            "Requirement already satisfied: Babel>=2.3 in /usr/local/lib/python3.8/dist-packages (from Flask-Babel>=1.0.0->visualdl->paddleocr>=2.0.1) (2.11.0)\n",
            "Requirement already satisfied: MarkupSafe>=0.23 in /usr/local/lib/python3.8/dist-packages (from Jinja2<3.0,>=2.10.1->flask>=1.1.1->visualdl->paddleocr>=2.0.1) (2.0.1)\n",
            "Requirement already satisfied: pycryptodome>=3.8.0 in /usr/local/lib/python3.8/dist-packages (from bce-python-sdk->visualdl->paddleocr>=2.0.1) (3.16.0)\n",
            "Requirement already satisfied: future>=0.6.0 in /usr/local/lib/python3.8/dist-packages (from bce-python-sdk->visualdl->paddleocr>=2.0.1) (0.16.0)\n",
            "Requirement already satisfied: dill>=0.3.6 in /usr/local/lib/python3.8/dist-packages (from multiprocess->visualdl->paddleocr>=2.0.1) (0.3.6)\n"
          ]
        }
      ]
    },
    {
      "cell_type": "code",
      "source": [
        "# 引用Web Server套件\n",
        "from flask import Flask, request, abort, jsonify\n",
        "\n",
        "# 載入json處理套件\n",
        "import json\n",
        "\n",
        "# 外部連結自動生成套件\n",
        "from flask_ngrok import run_with_ngrok\n",
        "\n",
        "# 從linebot 套件包裡引用 LineBotApi 與 WebhookHandler 類別\n",
        "from linebot import (\n",
        "    LineBotApi, WebhookHandler\n",
        ")\n",
        "\n",
        "# 引用無效簽章錯誤\n",
        "from linebot.exceptions import (\n",
        "    InvalidSignatureError\n",
        ")"
      ],
      "metadata": {
        "id": "HxrDzkB7ey_9"
      },
      "execution_count": null,
      "outputs": []
    },
    {
      "cell_type": "code",
      "source": [
        "'''\n",
        "建置主程序\n",
        "\n",
        "建置handler與 line_bot_api\n",
        "'''\n",
        "\n",
        "# 設定Server啟用細節\n",
        "app = Flask(__name__,static_url_path = \"/material\" , static_folder = \"./material/\")\n",
        "run_with_ngrok(app)\n",
        "\n",
        "# 生成實體物件\n",
        "line_bot_api = LineBotApi(\"y5vKOviRTFsN8VP5y4EVl3lpSGOjqmJjOvAnH89ThLyATG4I4kC4dnCZZ0sa8MfZgUyvQCFT/oKLpAVC6ZXjUzDzyl1rBGnuGY4aMo3ewbAV2nIl0kmMY/ae0QsbDQHh08QEk9M6sfZ9wKhcWOZP6QdB04t89/1O/w1cDnyilFU=\")\n",
        "handler = WebhookHandler(\"8f67c035674deaa1a6c3e6daf96146a3\")"
      ],
      "metadata": {
        "id": "H0ggqT9Kezkl"
      },
      "execution_count": null,
      "outputs": []
    },
    {
      "cell_type": "code",
      "source": [
        "'''\n",
        "建置主程序的API入口\n",
        "  接受Line傳過來的消息\n",
        "  並取出消息內容\n",
        "  將消息內容存在google drive的檔案內\n",
        "  並請handler 進行消息驗證與轉發\n",
        "'''\n",
        "\n",
        "# 啟動server對外接口，使Line能丟消息進來\n",
        "@app.route(\"/\", methods=['POST'])\n",
        "def callback():\n",
        "    # get X-Line-Signature header value\n",
        "    signature = request.headers['X-Line-Signature']\n",
        "\n",
        "    # get request body as text\n",
        "    body = request.get_data(as_text=True)\n",
        "    print(body)\n",
        "\n",
        "    # 記錄用戶log\n",
        "    f = open(\"/content/drive/MyDrive/ai-event.log\", \"a\")\n",
        "    f.write(body)\n",
        "    f.close()\n",
        "\n",
        "    # handle webhook body\n",
        "    try:\n",
        "        handler.handle(body, signature)\n",
        "    except InvalidSignatureError:\n",
        "        abort(400)\n",
        "\n",
        "    return 'OK'"
      ],
      "metadata": {
        "id": "ltYvUktzezp5"
      },
      "execution_count": null,
      "outputs": []
    },
    {
      "cell_type": "code",
      "source": [
        "import cv2\n",
        "import numpy as np\n",
        "from google.colab.patches import cv2_imshow\n",
        "from PIL import ImageFont, ImageDraw, Image\n",
        "\n",
        "from paddleocr import PaddleOCR, draw_ocr\n",
        "from linebot.models import(\n",
        "    MessageEvent,ImageMessage, TextSendMessage\n",
        ")\n",
        "import os\n",
        "\n",
        "@handler.add(MessageEvent, message=ImageMessage)\n",
        "def handle_message(event):\n",
        "    message_content = line_bot_api.get_message_content(event.message.id)\n",
        "    pic_id = str(event.message.id)+\".jpg\" #讓每一張圖都可以儲存，未來可再使用\n",
        "    with open(pic_id, 'wb') as fd:\n",
        "        for chunk in message_content.iter_content():\n",
        "            fd.write(chunk)\n",
        "    m1 = cv2.imread(pic_id, 1)\n",
        "\n",
        "    copy = m1.copy()\n",
        "\n",
        "    m1_g = cv2.cvtColor(m1, cv2.COLOR_BGR2GRAY) # 手寫字轉灰階\n",
        "\n",
        "    ret, m1_new = cv2.threshold(m1_g, 127, 255, cv2.THRESH_BINARY) # 手寫字轉黑底白字\n",
        "\n",
        "    m1_new_erode = cv2.erode(m1_new, np.ones((3, 3))) #抓字\n",
        "\n",
        "    erode = cv2.erode(copy, np.ones((30, 30))) #抓字\n",
        "\n",
        "    gray = cv2.cvtColor(copy, cv2.COLOR_BGR2GRAY) #轉灰階\n",
        "\n",
        "    blur = cv2.GaussianBlur(gray,(5,5),0)   #模糊化\n",
        "\n",
        "\n",
        "    canny = cv2.Canny(blur, 70, 210)\n",
        "\n",
        "    th, canny = cv2.threshold(canny, 10, 255, cv2.THRESH_BINARY)\n",
        "\n",
        "    morph = cv2.morphologyEx(canny, cv2.MORPH_GRADIENT, np.ones((10, 10))) \n",
        "    p, t = cv2.findContours(morph, cv2.RETR_EXTERNAL, cv2.CHAIN_APPROX_SIMPLE)\n",
        "\n",
        "    if len(p)== 1:\n",
        "        x, y, w, h = cv2.boundingRect(p[0]) \n",
        "        cv2.rectangle(m1_new_erode, (x,y), (x+w, y+h), (255, 255, 255), 0) #框線改白色\n",
        "        capture_img = m1_new_erode[y : y + h, x : x + w] #框起來的地方\n",
        "        \n",
        "        new_w = int(50*h/w)\n",
        "        resize_capture = cv2.resize(capture_img, (50, new_w), interpolation=cv2.INTER_AREA)\n",
        "\n",
        "        cv2.imwrite(\"resize_capture.png\", resize_capture) #存成 寬50 的手寫字\n",
        "        resize_capture = cv2.imread(\"resize_capture.png\", 1)\n",
        "\n",
        "\n",
        "        # Paddleocr目前支持的多语言语种可以通过修改lang参数进行切换\n",
        "        # 例如`ch`, `en`, `fr`, `german`, `korean`, `japan`\n",
        "        ocr = PaddleOCR(use_angle_cls=True, lang=\"ch\")  # need to run only once to download and load model into memory\n",
        "        img_path = pic_id\n",
        "        result = ocr.ocr(img_path, cls=True)\n",
        "        for idx in range(len(result)):\n",
        "            res = result[idx]\n",
        "            for line in res:\n",
        "                capture_word = line[-1][0]\n",
        "                text = capture_word # 取得辨識結果\n",
        "\n",
        "        compare_word = np.full((100, 100, 3), (255, 255, 255), np.uint8) \n",
        "        compare_word = Image.fromarray(compare_word)\n",
        "        ImageDraw.Draw(compare_word).text((0,0),\n",
        "                    (text),\n",
        "                    (0, 0, 0),\n",
        "                    ImageFont.truetype(\"ThePeakFontBeta_V0_101.ttf\", 55)  #要上傳字體\n",
        "        )\n",
        "        compare_word = np.array(compare_word)\n",
        "        \n",
        "\n",
        "        \n",
        "\n",
        "        cv2.imwrite(\"compare.png\", compare_word) # 生成的字存成 compare.png，要再取一次輪廓\n",
        "\n",
        "        compare_img = cv2.imread('compare.png', 1) \n",
        "\n",
        "        copy = compare_img.copy()\n",
        "\n",
        "        canny = cv2.Canny(copy, 70, 210)\n",
        "\n",
        "        th, canny = cv2.threshold(canny, 10, 255, cv2.THRESH_BINARY)\n",
        "\n",
        "        morph = cv2.morphologyEx(canny, cv2.MORPH_GRADIENT, np.ones((3, 3))) \n",
        "        p, t = cv2.findContours(morph, cv2.RETR_EXTERNAL, cv2.CHAIN_APPROX_SIMPLE)\n",
        "        x, y, w, h = cv2.boundingRect(p[0]) \n",
        "        cv2.rectangle(compare_img, (x,y), (x+w, y+h), (255, 255, 255), 0)  #框線改白色\n",
        "        cv2.imwrite(\"compare2.png\", compare_img[y : y + h, x : x + w]) #要再resize\n",
        "\n",
        "        compare2_img = cv2.imread('compare2.png', 1)\n",
        "\n",
        "        new_w = int(50*h/w)\n",
        "        resize_compare = cv2.resize(compare2_img, (50, new_w), interpolation=cv2.INTER_AREA)\n",
        "        cv2.imwrite(\"resize_compare.png\", resize_compare) #存成 寬50 的比對字\n",
        "      \n",
        "        # 用resize_capture.png 跟resize_compare.png 比對分數\n",
        "\n",
        "        def classify_gray_hist(image1,image2,size = (256,256)): \n",
        "          img1 = cv2.resize(image1,size) \n",
        "          img2 = cv2.resize(image2,size) \n",
        "        # 最簡單的以灰度直方圖作為相似比較的實現 \n",
        "        # def classify_gray_hist(image1,image2,size = (256,256)): \n",
        "        # 先計算直方圖 \n",
        "        # 幾個引數必須用方括號括起來 \n",
        "        # 這裡直接用灰度圖計算直方圖，所以是使用第一個通道， \n",
        "        # 也可以進行通道分離後，得到多個通道的直方圖 \n",
        "        # bins 取為16 \n",
        "\n",
        "          hist1 = cv2.calcHist([image1],[0],None,[256],[0.0,255.0]) \n",
        "          hist2 = cv2.calcHist([image2],[0],None,[256],[0.0,255.0]) \n",
        "\n",
        "        # 計算直方圖的重合度 \n",
        "          degree = 0 \n",
        "          for i in range(len(hist1)): \n",
        "            if hist1[i] != hist2[i]: \n",
        "              degree = degree + (1 - abs(hist1[i]-hist2[i])/max(hist1[i],hist2[i])) \n",
        "            else: \n",
        "              degree = degree + 1 \n",
        "          degree = degree/len(hist1) \n",
        "          return degree\n",
        "    \n",
        "    \n",
        "        if __name__ == '__main__': \n",
        "          img1 = cv2.imread('resize_compare.png') \n",
        "          cv2_imshow(img1) \n",
        "          img2 = cv2.imread('resize_capture.png') \n",
        "          cv2_imshow(img2) \n",
        "          degree1 = classify_gray_hist(img1,img2) \n",
        "          reply = int(degree1*117)  # 最高分約為 85分，故乘上1.17倍\n",
        "          if reply >100:\n",
        "            reply = 100\n",
        "          reply = str(reply)\n",
        "          comments = '您的分數是'+reply+'分'\n",
        "          line_bot_api.reply_message(event.reply_token, TextSendMessage(text=comments))\n",
        "          message_content = line_bot_api.get_message_content(event.message.id)\n",
        "          with open(pic_id, 'wb') as fd:\n",
        "            for chunk in message_content.iter_content():\n",
        "              fd.write(chunk)\n",
        "\n",
        "\n",
        "    else:\n",
        "      comments=\"請靠近文字重新拍攝再上傳\"\n",
        "      line_bot_api.reply_message(event.reply_token, TextSendMessage(text=comments))\n",
        "\n",
        "      os.remove(pic_id) # 刪除無法擷取的圖像\n",
        "\n",
        "      # message_content = line_bot_api.get_message_content(event.message.id)\n",
        "      # with open(pic_id, 'wb') as fd:\n",
        "      #   for chunk in message_content.iter_content():\n",
        "      #     fd.write(chunk)"
      ],
      "metadata": {
        "id": "U6Qzr8-Ge3a1"
      },
      "execution_count": null,
      "outputs": []
    },
    {
      "cell_type": "code",
      "source": [
        "app.run()"
      ],
      "metadata": {
        "colab": {
          "base_uri": "https://localhost:8080/",
          "height": 511
        },
        "id": "vt9uKQ8kfo3F",
        "outputId": "9f848f6f-e3f0-45e7-b59b-97d7479d0366"
      },
      "execution_count": null,
      "outputs": [
        {
          "output_type": "stream",
          "name": "stdout",
          "text": [
            " * Serving Flask app \"__main__\" (lazy loading)\n",
            " * Environment: production\n",
            "\u001b[31m   WARNING: This is a development server. Do not use it in a production deployment.\u001b[0m\n",
            "\u001b[2m   Use a production WSGI server instead.\u001b[0m\n",
            " * Debug mode: off\n"
          ]
        },
        {
          "output_type": "stream",
          "name": "stderr",
          "text": [
            "INFO:werkzeug: * Running on http://127.0.0.1:5000/ (Press CTRL+C to quit)\n"
          ]
        },
        {
          "output_type": "stream",
          "name": "stdout",
          "text": [
            " * Running on http://e394-34-85-135-159.ngrok.io\n",
            " * Traffic stats available on http://127.0.0.1:4040\n"
          ]
        },
        {
          "output_type": "stream",
          "name": "stderr",
          "text": [
            "INFO:werkzeug:127.0.0.1 - - [02/Dec/2022 17:58:03] \"\u001b[37mPOST / HTTP/1.1\u001b[0m\" 200 -\n"
          ]
        },
        {
          "output_type": "stream",
          "name": "stdout",
          "text": [
            "{\"destination\":\"Ufa901c1e3a406c236ccb56aa04ae3c63\",\"events\":[{\"type\":\"unfollow\",\"webhookEventId\":\"01GK9ZSZANSC0ZZ3KGRF4KG4DV\",\"deliveryContext\":{\"isRedelivery\":false},\"timestamp\":1670003882841,\"source\":{\"type\":\"user\",\"userId\":\"U2ccdc04f5d134177e59e4af39c670d5a\"},\"mode\":\"active\"}]}\n"
          ]
        },
        {
          "output_type": "stream",
          "name": "stderr",
          "text": [
            "INFO:werkzeug:127.0.0.1 - - [02/Dec/2022 17:58:06] \"\u001b[37mPOST / HTTP/1.1\u001b[0m\" 200 -\n"
          ]
        },
        {
          "output_type": "stream",
          "name": "stdout",
          "text": [
            "{\"destination\":\"Ufa901c1e3a406c236ccb56aa04ae3c63\",\"events\":[{\"type\":\"follow\",\"webhookEventId\":\"01GK9ZT212E2T3VZAWDWC6Q34Y\",\"deliveryContext\":{\"isRedelivery\":false},\"timestamp\":1670003885608,\"source\":{\"type\":\"user\",\"userId\":\"U2ccdc04f5d134177e59e4af39c670d5a\"},\"replyToken\":\"798c667ba0fa413bb7d329dba891035b\",\"mode\":\"active\"}]}\n",
            "{\"destination\":\"Ufa901c1e3a406c236ccb56aa04ae3c63\",\"events\":[{\"type\":\"message\",\"message\":{\"type\":\"image\",\"id\":\"17227878263913\",\"contentProvider\":{\"type\":\"line\"}},\"webhookEventId\":\"01GK9ZTFS53RF5QH4PFS2XYP0B\",\"deliveryContext\":{\"isRedelivery\":false},\"timestamp\":1670003900005,\"source\":{\"type\":\"user\",\"userId\":\"U2ccdc04f5d134177e59e4af39c670d5a\"},\"replyToken\":\"1518ea23dc6a49c89f775a46f181fd50\",\"mode\":\"active\"}]}\n"
          ]
        },
        {
          "output_type": "stream",
          "name": "stderr",
          "text": [
            "INFO:werkzeug:127.0.0.1 - - [02/Dec/2022 17:58:23] \"\u001b[37mPOST / HTTP/1.1\u001b[0m\" 200 -\n"
          ]
        },
        {
          "output_type": "stream",
          "name": "stdout",
          "text": [
            "{\"destination\":\"Ufa901c1e3a406c236ccb56aa04ae3c63\",\"events\":[{\"type\":\"message\",\"message\":{\"type\":\"image\",\"id\":\"17227879559145\",\"contentProvider\":{\"type\":\"line\"}},\"webhookEventId\":\"01GK9ZVD4FVR7WADVE0W4ZB5NR\",\"deliveryContext\":{\"isRedelivery\":false},\"timestamp\":1670003929749,\"source\":{\"type\":\"user\",\"userId\":\"U2ccdc04f5d134177e59e4af39c670d5a\"},\"replyToken\":\"677280e040504024b7b85caba663ddd7\",\"mode\":\"active\"}]}\n",
            "[2022/12/02 17:58:52] ppocr DEBUG: Namespace(alpha=1.0, benchmark=False, beta=1.0, cls_batch_num=6, cls_image_shape='3, 48, 192', cls_model_dir='/root/.paddleocr/whl/cls/ch_ppocr_mobile_v2.0_cls_infer', cls_thresh=0.9, cpu_threads=10, crop_res_save_dir='./output', det=True, det_algorithm='DB', det_box_type='quad', det_db_box_thresh=0.6, det_db_score_mode='fast', det_db_thresh=0.3, det_db_unclip_ratio=1.5, det_east_cover_thresh=0.1, det_east_nms_thresh=0.2, det_east_score_thresh=0.8, det_limit_side_len=960, det_limit_type='max', det_model_dir='/root/.paddleocr/whl/det/ch/ch_PP-OCRv3_det_infer', det_pse_box_thresh=0.85, det_pse_min_area=16, det_pse_scale=1, det_pse_thresh=0, det_sast_nms_thresh=0.2, det_sast_score_thresh=0.5, draw_img_save_dir='./inference_results', drop_score=0.5, e2e_algorithm='PGNet', e2e_char_dict_path='./ppocr/utils/ic15_dict.txt', e2e_limit_side_len=768, e2e_limit_type='max', e2e_model_dir=None, e2e_pgnet_mode='fast', e2e_pgnet_score_thresh=0.5, e2e_pgnet_valid_set='totaltext', enable_mkldnn=False, fourier_degree=5, gpu_mem=500, help='==SUPPRESS==', image_dir=None, image_orientation=False, ir_optim=True, kie_algorithm='LayoutXLM', label_list=['0', '180'], lang='ch', layout=True, layout_dict_path=None, layout_model_dir=None, layout_nms_threshold=0.5, layout_score_threshold=0.5, max_batch_size=10, max_text_length=25, merge_no_span_structure=True, min_subgraph_size=15, mode='structure', ocr=True, ocr_order_method=None, ocr_version='PP-OCRv3', output='./output', page_num=0, precision='fp32', process_id=0, re_model_dir=None, rec=True, rec_algorithm='SVTR_LCNet', rec_batch_num=6, rec_char_dict_path='/usr/local/lib/python3.8/dist-packages/paddleocr/ppocr/utils/ppocr_keys_v1.txt', rec_image_inverse=True, rec_image_shape='3, 48, 320', rec_model_dir='/root/.paddleocr/whl/rec/ch/ch_PP-OCRv3_rec_infer', recovery=False, save_crop_res=False, save_log_path='./log_output/', scales=[8, 16, 32], ser_dict_path='../train_data/XFUND/class_list_xfun.txt', ser_model_dir=None, show_log=True, sr_batch_num=1, sr_image_shape='3, 32, 128', sr_model_dir=None, structure_version='PP-StructureV2', table=True, table_algorithm='TableAttn', table_char_dict_path=None, table_max_len=488, table_model_dir=None, total_process_num=1, type='ocr', use_angle_cls=True, use_dilation=False, use_gpu=False, use_mp=False, use_npu=False, use_onnx=False, use_pdf2docx_api=False, use_pdserving=False, use_space_char=True, use_tensorrt=False, use_visual_backbone=True, use_xpu=False, vis_font_path='./doc/fonts/simfang.ttf', warmup=False)\n",
            "[2022/12/02 17:58:54] ppocr DEBUG: dt_boxes num : 1, elapse : 0.5140907764434814\n",
            "[2022/12/02 17:58:54] ppocr DEBUG: cls num  : 1, elapse : 0.01112508773803711\n",
            "[2022/12/02 17:58:54] ppocr DEBUG: rec_res num  : 1, elapse : 0.0806128978729248\n"
          ]
        },
        {
          "output_type": "display_data",
          "data": {
            "text/plain": [
              "<PIL.Image.Image image mode=RGB size=50x48 at 0x7F7C482CF1F0>"
            ],
            "image/png": "[encoded data removed]"
          },
          "metadata": {}
        },
        {
          "output_type": "display_data",
          "data": {
            "text/plain": [
              "<PIL.Image.Image image mode=RGB size=50x63 at 0x7F7C482CFD30>"
            ],
            "image/png": "[encoded data removed]"
          },
          "metadata": {}
        },
        {
          "output_type": "stream",
          "name": "stderr",
          "text": [
            "INFO:werkzeug:127.0.0.1 - - [02/Dec/2022 17:58:56] \"\u001b[37mPOST / HTTP/1.1\u001b[0m\" 200 -\n"
          ]
        }
      ]
    }
  ]
}
