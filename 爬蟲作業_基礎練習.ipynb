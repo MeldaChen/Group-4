{
  "nbformat": 4,
  "nbformat_minor": 0,
  "metadata": {
    "colab": {
      "provenance": [],
      "authorship_tag": "ABX9TyOH7IBhA6bSmM7wi5T2n/YS",
      "include_colab_link": true
    },
    "kernelspec": {
      "name": "python3",
      "display_name": "Python 3"
    },
    "language_info": {
      "name": "python"
    }
  },
  "cells": [
    {
      "cell_type": "markdown",
      "metadata": {
        "id": "view-in-github",
        "colab_type": "text"
      },
      "source": [
        "<a href=\"https://colab.research.google.com/github/MeldaChen/Group-4/blob/main/%E7%88%AC%E8%9F%B2%E4%BD%9C%E6%A5%AD_%E5%9F%BA%E7%A4%8E%E7%B7%B4%E7%BF%92.ipynb\" target=\"_parent\"><img src=\"https://colab.research.google.com/assets/colab-badge.svg\" alt=\"Open In Colab\"/></a>"
      ]
    },
    {
      "cell_type": "code",
      "source": [
        "import requests\n",
        "\n",
        "r = requests.get(\"http://teaching.bo-yuan.net/test/requests/\",params={\"action\":1})\n",
        "\n",
        "print(r.text)\n",
        "\n",
        "r2 = requests.delete(\"http://teaching.bo-yuan.net/test/requests/\",\n",
        "    params={\"action\":1}, \n",
        "    data ={\"id\":1}\n",
        ")\n",
        "\n",
        "print(r2.text)\n",
        "\n",
        "r3 = requests.put(\"http://teaching.bo-yuan.net/test/requests/\",\n",
        "    params={\"action\":1}, \n",
        "    data ={\"id\":1, \"name\":\"aaa\"}\n",
        ")\n",
        "\n",
        "print(r3.text)\n",
        "\n",
        "r4 = requests.patch(\"http://teaching.bo-yuan.net/test/requests/\",\n",
        "    params={\"action\":1}, \n",
        "    data ={\"id\":1, \"name\":\"aaa\", \"address\":\"bbb\"}\n",
        ")\n",
        "\n",
        "print(r4.text)\n",
        "\n",
        "r5 = requests.post(\"http://teaching.bo-yuan.net/test/requests/\",\n",
        "    params={\"action\":1}, \n",
        "    data ={\"id\":1, \"name\":\"aaa\", \"address\":\"bbb\"}\n",
        ")\n",
        "\n",
        "print(r5.text)\n"
      ],
      "metadata": {
        "id": "1nefWBYLx5uH",
        "colab": {
          "base_uri": "https://localhost:8080/"
        },
        "outputId": "d46ce3f1-7647-4a7c-fc2d-bf82ad51a00c"
      },
      "execution_count": null,
      "outputs": [
        {
          "output_type": "stream",
          "name": "stdout",
          "text": [
            "需要DELETE的操作。\n",
            "記得去PUT操作。\n",
            "PUT完了，也要PATCH資料。\n",
            "最後POST一筆資料吧。\n",
            "哈哈，答對了，請把操作過程中的所有指令保留在程式碼中，將檔案繳交上來。\n"
          ]
        }
      ]
    }
  ]
}