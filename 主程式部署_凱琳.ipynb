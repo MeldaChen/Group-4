{
  "nbformat": 4,
  "nbformat_minor": 0,
  "metadata": {
    "colab": {
      "provenance": [],
      "include_colab_link": true
    },
    "kernelspec": {
      "name": "python3",
      "display_name": "Python 3"
    },
    "language_info": {
      "name": "python"
    }
  },
  "cells": [
    {
      "cell_type": "markdown",
      "metadata": {
        "id": "view-in-github",
        "colab_type": "text"
      },
      "source": [
        "<a href=\"https://colab.research.google.com/github/MeldaChen/Group-4/blob/main/%E4%B8%BB%E7%A8%8B%E5%BC%8F%E9%83%A8%E7%BD%B2_%E5%87%B1%E7%90%B3.ipynb\" target=\"_parent\"><img src=\"https://colab.research.google.com/assets/colab-badge.svg\" alt=\"Open In Colab\"/></a>"
      ]
    },
    {
      "cell_type": "code",
      "execution_count": null,
      "metadata": {
        "colab": {
          "base_uri": "https://localhost:8080/"
        },
        "id": "QazSAF2Wetns",
        "outputId": "f766dc24-adc7-48f9-d58b-2560df3c8531"
      },
      "outputs": [
        {
          "output_type": "stream",
          "name": "stdout",
          "text": [
            "Mounted at /content/drive\n"
          ]
        }
      ],
      "source": [
        "from google.colab import drive\n",
        "drive.mount('/content/drive')"
      ]
    },
    {
      "cell_type": "code",
      "source": [
        "!pip install line-bot-sdk flask flask-ngrok"
      ],
      "metadata": {
        "colab": {
          "base_uri": "https://localhost:8080/"
        },
        "id": "Sd2FVpR9exER",
        "outputId": "304b24f2-c214-4396-ea25-26c289cf4f01"
      },
      "execution_count": null,
      "outputs": [
        {
          "output_type": "stream",
          "name": "stdout",
          "text": [
            "Looking in indexes: https://pypi.org/simple, https://us-python.pkg.dev/colab-wheels/public/simple/\n",
            "Collecting line-bot-sdk\n",
            "  Downloading line_bot_sdk-2.3.0-py2.py3-none-any.whl (88 kB)\n",
            "\u001b[K     |████████████████████████████████| 88 kB 2.3 MB/s \n",
            "\u001b[?25hRequirement already satisfied: flask in /usr/local/lib/python3.8/dist-packages (1.1.4)\n",
            "Collecting flask-ngrok\n",
            "  Downloading flask_ngrok-0.0.25-py3-none-any.whl (3.1 kB)\n",
            "Requirement already satisfied: future in /usr/local/lib/python3.8/dist-packages (from line-bot-sdk) (0.16.0)\n",
            "Requirement already satisfied: requests>=2.0 in /usr/local/lib/python3.8/dist-packages (from line-bot-sdk) (2.23.0)\n",
            "Requirement already satisfied: aiohttp>=3.7.4 in /usr/local/lib/python3.8/dist-packages (from line-bot-sdk) (3.8.3)\n",
            "Requirement already satisfied: yarl<2.0,>=1.0 in /usr/local/lib/python3.8/dist-packages (from aiohttp>=3.7.4->line-bot-sdk) (1.8.1)\n",
            "Requirement already satisfied: frozenlist>=1.1.1 in /usr/local/lib/python3.8/dist-packages (from aiohttp>=3.7.4->line-bot-sdk) (1.3.3)\n",
            "Requirement already satisfied: async-timeout<5.0,>=4.0.0a3 in /usr/local/lib/python3.8/dist-packages (from aiohttp>=3.7.4->line-bot-sdk) (4.0.2)\n",
            "Requirement already satisfied: aiosignal>=1.1.2 in /usr/local/lib/python3.8/dist-packages (from aiohttp>=3.7.4->line-bot-sdk) (1.3.1)\n",
            "Requirement already satisfied: charset-normalizer<3.0,>=2.0 in /usr/local/lib/python3.8/dist-packages (from aiohttp>=3.7.4->line-bot-sdk) (2.1.1)\n",
            "Requirement already satisfied: multidict<7.0,>=4.5 in /usr/local/lib/python3.8/dist-packages (from aiohttp>=3.7.4->line-bot-sdk) (6.0.2)\n",
            "Requirement already satisfied: attrs>=17.3.0 in /usr/local/lib/python3.8/dist-packages (from aiohttp>=3.7.4->line-bot-sdk) (22.1.0)\n",
            "Requirement already satisfied: chardet<4,>=3.0.2 in /usr/local/lib/python3.8/dist-packages (from requests>=2.0->line-bot-sdk) (3.0.4)\n",
            "Requirement already satisfied: idna<3,>=2.5 in /usr/local/lib/python3.8/dist-packages (from requests>=2.0->line-bot-sdk) (2.10)\n",
            "Requirement already satisfied: urllib3!=1.25.0,!=1.25.1,<1.26,>=1.21.1 in /usr/local/lib/python3.8/dist-packages (from requests>=2.0->line-bot-sdk) (1.24.3)\n",
            "Requirement already satisfied: certifi>=2017.4.17 in /usr/local/lib/python3.8/dist-packages (from requests>=2.0->line-bot-sdk) (2022.9.24)\n",
            "Requirement already satisfied: Jinja2<3.0,>=2.10.1 in /usr/local/lib/python3.8/dist-packages (from flask) (2.11.3)\n",
            "Requirement already satisfied: itsdangerous<2.0,>=0.24 in /usr/local/lib/python3.8/dist-packages (from flask) (1.1.0)\n",
            "Requirement already satisfied: Werkzeug<2.0,>=0.15 in /usr/local/lib/python3.8/dist-packages (from flask) (1.0.1)\n",
            "Requirement already satisfied: click<8.0,>=5.1 in /usr/local/lib/python3.8/dist-packages (from flask) (7.1.2)\n",
            "Requirement already satisfied: MarkupSafe>=0.23 in /usr/local/lib/python3.8/dist-packages (from Jinja2<3.0,>=2.10.1->flask) (2.0.1)\n",
            "Installing collected packages: line-bot-sdk, flask-ngrok\n",
            "Successfully installed flask-ngrok-0.0.25 line-bot-sdk-2.3.0\n"
          ]
        }
      ]
    },
    {
      "cell_type": "code",
      "source": [
        "# 引用Web Server套件\n",
        "from flask import Flask, request, abort, jsonify\n",
        "\n",
        "# 載入json處理套件\n",
        "import json\n",
        "\n",
        "# 外部連結自動生成套件\n",
        "from flask_ngrok import run_with_ngrok\n",
        "\n",
        "# 從linebot 套件包裡引用 LineBotApi 與 WebhookHandler 類別\n",
        "from linebot import (\n",
        "    LineBotApi, WebhookHandler\n",
        ")\n",
        "\n",
        "# 引用無效簽章錯誤\n",
        "from linebot.exceptions import (\n",
        "    InvalidSignatureError\n",
        ")"
      ],
      "metadata": {
        "id": "HxrDzkB7ey_9"
      },
      "execution_count": null,
      "outputs": []
    },
    {
      "cell_type": "code",
      "source": [
        "'''\n",
        "建置主程序\n",
        "\n",
        "建置handler與 line_bot_api\n",
        "'''\n",
        "\n",
        "# 設定Server啟用細節\n",
        "app = Flask(__name__,static_url_path = \"/material\" , static_folder = \"./material/\")\n",
        "run_with_ngrok(app)\n",
        "\n",
        "# 生成實體物件\n",
        "line_bot_api = LineBotApi(\"y5vKOviRTFsN8VP5y4EVl3lpSGOjqmJjOvAnH89ThLyATG4I4kC4dnCZZ0sa8MfZgUyvQCFT/oKLpAVC6ZXjUzDzyl1rBGnuGY4aMo3ewbAV2nIl0kmMY/ae0QsbDQHh08QEk9M6sfZ9wKhcWOZP6QdB04t89/1O/w1cDnyilFU=\")\n",
        "handler = WebhookHandler(\"8f67c035674deaa1a6c3e6daf96146a3\")"
      ],
      "metadata": {
        "id": "H0ggqT9Kezkl"
      },
      "execution_count": null,
      "outputs": []
    },
    {
      "cell_type": "code",
      "source": [
        "'''\n",
        "建置主程序的API入口\n",
        "  接受Line傳過來的消息\n",
        "  並取出消息內容\n",
        "  將消息內容存在google drive的檔案內\n",
        "  並請handler 進行消息驗證與轉發\n",
        "'''\n",
        "\n",
        "# 啟動server對外接口，使Line能丟消息進來\n",
        "@app.route(\"/\", methods=['POST'])\n",
        "def callback():\n",
        "    # get X-Line-Signature header value\n",
        "    signature = request.headers['X-Line-Signature']\n",
        "\n",
        "    # get request body as text\n",
        "    body = request.get_data(as_text=True)\n",
        "    print(body)\n",
        "\n",
        "    # 記錄用戶log\n",
        "    f = open(\"/content/drive/MyDrive/ai-event.log\", \"a\")\n",
        "    f.write(body)\n",
        "    f.close()\n",
        "\n",
        "    # handle webhook body\n",
        "    try:\n",
        "        handler.handle(body, signature)\n",
        "    except InvalidSignatureError:\n",
        "        abort(400)\n",
        "\n",
        "    return 'OK'"
      ],
      "metadata": {
        "id": "ltYvUktzezp5"
      },
      "execution_count": null,
      "outputs": []
    },
    {
      "cell_type": "code",
      "source": [
        "import cv2\n",
        "import numpy as np\n",
        "import IPython.display as dp\n",
        "from google.colab.patches import cv2_imshow\n",
        "from PIL import ImageFont, ImageDraw, Image\n",
        "from matplotlib import pyplot as plt \n",
        "import math\n",
        "'''\n",
        "\n",
        "若收到圖片消息時，\n",
        "\n",
        "先回覆用戶文字消息，並從Line上將照片拿回。\n",
        "\n",
        "'''\n",
        "import math\n",
        "import cv2 as cv\n",
        "import numpy as np\n",
        "from linebot.models import(\n",
        "    MessageEvent,ImageMessage, TextSendMessage\n",
        ")\n",
        "\n",
        "def image_processing_1(image_name,image_path):\n",
        "    #讀取照片原圖\n",
        "    im = cv.imread(image_path)\n",
        "\n",
        "@handler.add(MessageEvent, message=ImageMessage)\n",
        "def handle_message(event):\n",
        "    message_content = line_bot_api.get_message_content(event.message.id)\n",
        "    with open('im.jpg', 'wb') as fd:\n",
        "        for chunk in message_content.iter_content():\n",
        "            fd.write(chunk)\n",
        "    m1 = cv2.imread('im.jpg', 1)\n",
        "\n",
        "    copy = m1.copy()\n",
        "\n",
        "    m1_g = cv2.cvtColor(m1, cv2.COLOR_BGR2GRAY) # 手寫字轉灰階\n",
        "\n",
        "    ret, m1_new = cv2.threshold(m1_g, 127, 255, cv2.THRESH_BINARY) # 手寫字轉黑底白字 \n",
        "\n",
        "    erode = cv2.erode(copy, np.ones((30, 30))) #抓字\n",
        "\n",
        "    gray = cv2.cvtColor(copy, cv2.COLOR_BGR2GRAY) #轉灰階\n",
        "\n",
        "    blur = cv2.GaussianBlur(gray,(5,5),0)   #模糊化\n",
        "\n",
        "\n",
        "    canny = cv2.Canny(blur, 70, 210)\n",
        "\n",
        "    th, canny = cv2.threshold(canny, 10, 255, cv2.THRESH_BINARY)\n",
        "\n",
        "    morph = cv2.morphologyEx(canny, cv2.MORPH_GRADIENT, np.ones((10, 10))) \n",
        "    p, t = cv2.findContours(morph, cv2.RETR_EXTERNAL, cv2.CHAIN_APPROX_SIMPLE)\n",
        "\n",
        "    if len(p)== 1:\n",
        "        x, y, w, h = cv2.boundingRect(p[0]) \n",
        "        cv2.rectangle(m1_new, (x,y), (x+w, y+h), (255, 255, 255), 2) #框線改白色\n",
        "        capture_img = m1_new[y : y + h, x : x + w] #框起來的地方\n",
        "        \n",
        "        resize_capture = cv2.resize(capture_img, (50, 50), interpolation=cv2.INTER_AREA)\n",
        "\n",
        "        cv2.imwrite(\"resize_capture.png\", resize_capture) #存成 50*50 的手寫字\n",
        "        resize_capture = cv2.imread(\"resize_capture.png\", 1)\n",
        "        # 手寫辨識\n",
        "        y_dict = {0:\"者\",1:\"我\",2:\"國\",3:\"來\",4:\"面\",5:\"過\",6:\"為\",7:\"大\",8:\"成\",9:\"民\"}\n",
        "        m = cv2.ml.KNearest_load('tch_knn.xml')   # 載入模型\n",
        "        img = cv2.imread(\"resize_capture.png\", 0)\n",
        "        ret, img = cv2.threshold(img, 127, 255, cv2.THRESH_BINARY_INV)\n",
        "        img = cv2.resize(img,(50, 50))\n",
        "        img = img.astype(np.float32)    # 轉換格式\n",
        "        img = img.reshape(-1)          # 打散成一維陣列資料，轉換成辨識使用的格式\n",
        "        img = img.reshape(1,-1)\n",
        "        img = img/255\n",
        "\n",
        "        img_pre = m.predict(img)          # 進行辨識\n",
        "\n",
        "        text = y_dict[int(img_pre[1][0][0])]        # 取得辨識結果\n",
        "\n",
        "\n",
        "        compare_word = np.full((50, 50, 3), (255, 255, 255), np.uint8) \n",
        "        compare_word = Image.fromarray(compare_word)\n",
        "        ImageDraw.Draw(compare_word).text((0,0),\n",
        "                    (text), #要換成練習的字\n",
        "                    (0, 0, 0),\n",
        "                    ImageFont.truetype(\"ThePeakFontBeta_V0_101.ttf\", 50)  #要上傳字體\n",
        "        )\n",
        "        compare_word = np.array(compare_word)\n",
        "        \n",
        "\n",
        "        \n",
        "\n",
        "        cv2.imwrite(\"compare.png\", compare_word) # 生成的字存成 compare.png，要再取一次輪廓\n",
        "\n",
        "        compare_img = cv2.imread('compare.png', 1) \n",
        "\n",
        "        copy = compare_img.copy()\n",
        "\n",
        "        # erode = cv2.erode(copy, np.ones((30, 30)))  \n",
        "\n",
        "        # blur = cv2.GaussianBlur(erode,(5,5),0) \n",
        "\n",
        "        canny = cv2.Canny(copy, 70, 210)\n",
        "\n",
        "        th, canny = cv2.threshold(canny, 10, 255, cv2.THRESH_BINARY)\n",
        "\n",
        "        morph = cv2.morphologyEx(canny, cv2.MORPH_GRADIENT, np.ones((10, 10))) \n",
        "        p, t = cv2.findContours(morph, cv2.RETR_EXTERNAL, cv2.CHAIN_APPROX_SIMPLE)\n",
        "        x, y, w, h = cv2.boundingRect(p[0]) \n",
        "        cv2.rectangle(compare_img, (x,y), (x+w, y+h), (255, 255, 255), 2)  #框線改白色\n",
        "        cv2.imwrite(\"compare2.png\", compare_img[y : y + h, x : x + w]) #要再resize\n",
        "\n",
        "        compare2_img = cv2.imread('compare2.png', 1)\n",
        "\n",
        "        resize_compare = cv2.resize(compare2_img, (50, 50), interpolation=cv2.INTER_AREA)\n",
        "        cv2.imwrite(\"resize_compare.png\", resize_compare) #存成 50*50 的比對字\n",
        "      \n",
        "        # 用resize_capture.png 跟resize_compare.png 比對分數\n",
        "\n",
        "        # 最簡單的以灰度直方圖作為相似比較的實現 \n",
        "        def classify_gray_hist(image1,image2,size = (256,256)): \n",
        "        # 先計算直方圖 \n",
        "        # 幾個引數必須用方括號括起來 \n",
        "        # 這裡直接用灰度圖計算直方圖，所以是使用第一個通道， \n",
        "        # 也可以進行通道分離後，得到多個通道的直方圖 \n",
        "        # bins 取為16 \n",
        "          image1 = cv2.resize(image1,size) \n",
        "          image2 = cv2.resize(image2,size) \n",
        "          hist1 = cv2.calcHist([image1],[0],None,[256],[0.0,255.0]) \n",
        "          hist2 = cv2.calcHist([image2],[0],None,[256],[0.0,255.0]) \n",
        "\n",
        "        # 計算直方圖的重合度 \n",
        "          degree = 0 \n",
        "          for i in range(len(hist1)): \n",
        "            if hist1[i] != hist2[i]: \n",
        "              degree = degree + (1 - abs(hist1[i]-hist2[i])/max(hist1[i],hist2[i])) \n",
        "            else: \n",
        "              degree = degree + 1 \n",
        "          degree = degree/len(hist1) \n",
        "          return degree \n",
        "    \n",
        "    # 計算單通道的直方圖的相似值 \n",
        "        def calculate(image1,image2): \n",
        "          hist1 = cv2.calcHist([image1],[0],None,[256],[0.0,255.0]) \n",
        "          hist2 = cv2.calcHist([image2],[0],None,[256],[0.0,255.0]) \n",
        "          # 計算直方圖的重合度 \n",
        "          degree = 0 \n",
        "          for i in range(len(hist1)): \n",
        "            if hist1[i] != hist2[i]: \n",
        "              degree = degree + (1 - abs(hist1[i]-hist2[i])/max(hist1[i],hist2[i])) \n",
        "            else: \n",
        "             degree = degree + 1 \n",
        "          degree = degree/len(hist1) \n",
        "          return degree \n",
        "    \n",
        "        # 通過得到每個通道的直方圖來計算相似度 \n",
        "        def classify_hist_with_split(image1,image2,size = (256,256)): \n",
        "        # 將影象resize後，分離為三個通道，再計算每個通道的相似值 \n",
        "          image1 = cv2.resize(image1,size) \n",
        "          image2 = cv2.resize(image2,size) \n",
        "          sub_image1 = cv2.split(image1) \n",
        "          sub_image2 = cv2.split(image2) \n",
        "          sub_data = 0 \n",
        "          for im1,im2 in zip(sub_image1,sub_image2): \n",
        "            sub_data += calculate(im1,im2) \n",
        "          sub_data = sub_data/3 \n",
        "          return sub_data \n",
        "    \n",
        "    \n",
        "        if __name__ == '__main__': \n",
        "          img1 = cv2.imread('resize_compare.png') #這一段東西需要回傳給使用者,修改中\n",
        "          cv2_imshow(img1) \n",
        "          img2 = cv2.imread('resize_capture.png') \n",
        "          cv2_imshow(img2) \n",
        "          degree1 = classify_gray_hist(img1,img2) \n",
        "          reply = (str(np.round(degree1 * 100)))\n",
        "          line_bot_api.reply_message(event.reply_token, TextSendMessage(text='您的分數是'+reply+'分'))\n",
        "          message_content = line_bot_api.get_message_content(event.message.id)\n",
        "          with open('im.jpg', 'wb') as fd:\n",
        "            for chunk in message_content.iter_content():\n",
        "              fd.write(chunk)\n",
        "\n",
        "\n",
        "    else:\n",
        "      line_bot_api.reply_message(event.reply_token, TextSendMessage(text=\"請靠近文字再拍攝一次\"))\n",
        "      message_content = line_bot_api.get_message_content(event.message.id)\n",
        "      with open('im.jpg', 'wb') as fd:\n",
        "        for chunk in message_content.iter_content():\n",
        "          fd.write(chunk)"
      ],
      "metadata": {
        "id": "U6Qzr8-Ge3a1"
      },
      "execution_count": null,
      "outputs": []
    },
    {
      "cell_type": "code",
      "source": [
        "app.run()"
      ],
      "metadata": {
        "colab": {
          "base_uri": "https://localhost:8080/",
          "height": 1000
        },
        "id": "vt9uKQ8kfo3F",
        "outputId": "4f93c502-7abe-4ff3-f85e-687c76ca3378"
      },
      "execution_count": null,
      "outputs": [
        {
          "metadata": {
            "tags": null
          },
          "name": "stdout",
          "output_type": "stream",
          "text": [
            " * Serving Flask app \"__main__\" (lazy loading)\n",
            " * Environment: production\n",
            "\u001b[31m   WARNING: This is a development server. Do not use it in a production deployment.\u001b[0m\n",
            "\u001b[2m   Use a production WSGI server instead.\u001b[0m\n",
            " * Debug mode: off\n"
          ]
        },
        {
          "metadata": {
            "tags": null
          },
          "name": "stderr",
          "output_type": "stream",
          "text": [
            "INFO:werkzeug: * Running on http://127.0.0.1:5000/ (Press CTRL+C to quit)\n"
          ]
        },
        {
          "metadata": {
            "tags": null
          },
          "name": "stdout",
          "output_type": "stream",
          "text": [
            " * Running on http://9af6-35-192-3-57.ngrok.io\n",
            " * Traffic stats available on http://127.0.0.1:4040\n"
          ]
        },
        {
          "metadata": {
            "tags": null
          },
          "name": "stderr",
          "output_type": "stream",
          "text": [
            "INFO:werkzeug:127.0.0.1 - - [02/Dec/2022 06:21:05] \"\u001b[37mPOST / HTTP/1.1\u001b[0m\" 200 -\n"
          ]
        },
        {
          "metadata": {
            "tags": null
          },
          "name": "stdout",
          "output_type": "stream",
          "text": [
            "{\"destination\":\"U824ef4cf00ee1105ffe2e3d2e4406673\",\"events\":[]}\n",
            "{\"destination\":\"U824ef4cf00ee1105ffe2e3d2e4406673\",\"events\":[{\"type\":\"message\",\"message\":{\"type\":\"image\",\"id\":\"17224727435464\",\"contentProvider\":{\"type\":\"line\"}},\"webhookEventId\":\"01GK8QZX2MZ54RYE78XDGRY157\",\"deliveryContext\":{\"isRedelivery\":false},\"timestamp\":1669962134110,\"source\":{\"type\":\"user\",\"userId\":\"Uc730ee660b50e0fe512c9dd1b5d5b501\"},\"replyToken\":\"20e53c5c5a5b4f5fa8178387c9f8e5b1\",\"mode\":\"active\"}]}\n"
          ]
        },
        {
          "data": {
            "image/png": "[encoded data removed]",
            "text/plain": [
              "<PIL.Image.Image image mode=RGB size=50x50 at 0x7F45995BEFD0>"
            ]
          },
          "metadata": {},
          "output_type": "display_data"
        },
        {
          "data": {
            "image/png": "[encoded data removed]",
            "text/plain": [
              "<PIL.Image.Image image mode=RGB size=50x50 at 0x7F45995BE460>"
            ]
          },
          "metadata": {},
          "output_type": "display_data"
        },
        {
          "metadata": {
            "tags": null
          },
          "name": "stderr",
          "output_type": "stream",
          "text": [
            "INFO:werkzeug:127.0.0.1 - - [02/Dec/2022 06:22:18] \"\u001b[37mPOST / HTTP/1.1\u001b[0m\" 200 -\n"
          ]
        },
        {
          "metadata": {
            "tags": null
          },
          "name": "stdout",
          "output_type": "stream",
          "text": [
            "{\"destination\":\"U824ef4cf00ee1105ffe2e3d2e4406673\",\"events\":[{\"type\":\"message\",\"message\":{\"type\":\"image\",\"id\":\"17224728365460\",\"contentProvider\":{\"type\":\"line\"}},\"webhookEventId\":\"01GK8R09030V9W937N901STAXC\",\"deliveryContext\":{\"isRedelivery\":false},\"timestamp\":1669962146711,\"source\":{\"type\":\"user\",\"userId\":\"Uc730ee660b50e0fe512c9dd1b5d5b501\"},\"replyToken\":\"3062a81c043a4af9ad9ad1fb7ccdbb6c\",\"mode\":\"active\"}]}\n"
          ]
        },
        {
          "metadata": {
            "tags": null
          },
          "name": "stderr",
          "output_type": "stream",
          "text": [
            "INFO:werkzeug:127.0.0.1 - - [02/Dec/2022 06:22:29] \"\u001b[37mPOST / HTTP/1.1\u001b[0m\" 200 -\n"
          ]
        },
        {
          "metadata": {
            "tags": null
          },
          "name": "stdout",
          "output_type": "stream",
          "text": [
            "{\"destination\":\"U824ef4cf00ee1105ffe2e3d2e4406673\",\"events\":[{\"type\":\"message\",\"message\":{\"type\":\"image\",\"id\":\"17224729028019\",\"contentProvider\":{\"type\":\"line\"}},\"webhookEventId\":\"01GK8R0HQPXVCGDPWT9SETXSEY\",\"deliveryContext\":{\"isRedelivery\":false},\"timestamp\":1669962155656,\"source\":{\"type\":\"user\",\"userId\":\"Uc730ee660b50e0fe512c9dd1b5d5b501\"},\"replyToken\":\"fff5017755914ffd8c43f125a214e5ef\",\"mode\":\"active\"}]}\n"
          ]
        },
        {
          "metadata": {
            "tags": null
          },
          "name": "stderr",
          "output_type": "stream",
          "text": [
            "INFO:werkzeug:127.0.0.1 - - [02/Dec/2022 06:22:39] \"\u001b[37mPOST / HTTP/1.1\u001b[0m\" 200 -\n"
          ]
        },
        {
          "metadata": {
            "tags": null
          },
          "name": "stdout",
          "output_type": "stream",
          "text": [
            "{\"destination\":\"U824ef4cf00ee1105ffe2e3d2e4406673\",\"events\":[{\"type\":\"message\",\"message\":{\"type\":\"image\",\"id\":\"17224729913237\",\"contentProvider\":{\"type\":\"line\"}},\"webhookEventId\":\"01GK8R0XW2MYTZWMNZZH9PM7J2\",\"deliveryContext\":{\"isRedelivery\":false},\"timestamp\":1669962167689,\"source\":{\"type\":\"user\",\"userId\":\"Uc730ee660b50e0fe512c9dd1b5d5b501\"},\"replyToken\":\"5306b9aa4248486bb38f4718dab8b20b\",\"mode\":\"active\"}]}\n"
          ]
        },
        {
          "data": {
            "image/png": "[encoded data removed]",
            "text/plain": [
              "<PIL.Image.Image image mode=RGB size=50x50 at 0x7F458B4D0790>"
            ]
          },
          "metadata": {},
          "output_type": "display_data"
        },
        {
          "data": {
            "image/png": "[encoded data removed]",
            "text/plain": [
              "<PIL.Image.Image image mode=RGB size=50x50 at 0x7F458B4D0670>"
            ]
          },
          "metadata": {},
          "output_type": "display_data"
        },
        {
          "metadata": {
            "tags": null
          },
          "name": "stderr",
          "output_type": "stream",
          "text": [
            "INFO:werkzeug:127.0.0.1 - - [02/Dec/2022 06:22:51] \"\u001b[37mPOST / HTTP/1.1\u001b[0m\" 200 -\n"
          ]
        },
        {
          "metadata": {
            "tags": null
          },
          "name": "stdout",
          "output_type": "stream",
          "text": [
            "{\"destination\":\"U824ef4cf00ee1105ffe2e3d2e4406673\",\"events\":[]}\n"
          ]
        },
        {
          "metadata": {
            "tags": null
          },
          "name": "stderr",
          "output_type": "stream",
          "text": [
            "INFO:werkzeug:127.0.0.1 - - [02/Dec/2022 06:35:12] \"\u001b[37mPOST / HTTP/1.1\u001b[0m\" 200 -\n"
          ]
        },
        {
          "metadata": {
            "tags": null
          },
          "name": "stdout",
          "output_type": "stream",
          "text": [
            "{\"destination\":\"U824ef4cf00ee1105ffe2e3d2e4406673\",\"events\":[{\"type\":\"message\",\"message\":{\"type\":\"image\",\"id\":\"17224784790210\",\"contentProvider\":{\"type\":\"line\"}},\"webhookEventId\":\"01GK8RQYXST3CE2JEESP6RRJWX\",\"deliveryContext\":{\"isRedelivery\":false},\"timestamp\":1669962922808,\"source\":{\"type\":\"user\",\"userId\":\"Uc730ee660b50e0fe512c9dd1b5d5b501\"},\"replyToken\":\"684fc1f1ad6a4820b90dbbeeab19b644\",\"mode\":\"active\"}]}\n"
          ]
        },
        {
          "metadata": {
            "tags": null
          },
          "name": "stderr",
          "output_type": "stream",
          "text": [
            "INFO:werkzeug:127.0.0.1 - - [02/Dec/2022 06:35:27] \"\u001b[37mPOST / HTTP/1.1\u001b[0m\" 200 -\n"
          ]
        },
        {
          "metadata": {
            "tags": null
          },
          "name": "stdout",
          "output_type": "stream",
          "text": [
            "{\"destination\":\"U824ef4cf00ee1105ffe2e3d2e4406673\",\"events\":[{\"type\":\"message\",\"message\":{\"type\":\"image\",\"id\":\"17224785629580\",\"contentProvider\":{\"type\":\"line\"}},\"webhookEventId\":\"01GK8RRASRCBMTM6T59N1TY28K\",\"deliveryContext\":{\"isRedelivery\":false},\"timestamp\":1669962934591,\"source\":{\"type\":\"user\",\"userId\":\"Uc730ee660b50e0fe512c9dd1b5d5b501\"},\"replyToken\":\"149274364bae46c39c0341a2849f6277\",\"mode\":\"active\"}]}\n"
          ]
        },
        {
          "data": {
            "image/png": "[encoded data removed]",
            "text/plain": [
              "<PIL.Image.Image image mode=RGB size=50x50 at 0x7F458B4D03D0>"
            ]
          },
          "metadata": {},
          "output_type": "display_data"
        },
        {
          "data": {
            "image/png": "[encoded data removed]",
            "text/plain": [
              "<PIL.Image.Image image mode=RGB size=50x50 at 0x7F458B4D0220>"
            ]
          },
          "metadata": {},
          "output_type": "display_data"
        },
        {
          "metadata": {
            "tags": null
          },
          "name": "stderr",
          "output_type": "stream",
          "text": [
            "INFO:werkzeug:127.0.0.1 - - [02/Dec/2022 06:35:38] \"\u001b[37mPOST / HTTP/1.1\u001b[0m\" 200 -\n"
          ]
        },
        {
          "output_type": "stream",
          "name": "stdout",
          "text": [
            "{\"destination\":\"U824ef4cf00ee1105ffe2e3d2e4406673\",\"events\":[]}\n"
          ]
        },
        {
          "output_type": "stream",
          "name": "stderr",
          "text": [
            "INFO:werkzeug:127.0.0.1 - - [02/Dec/2022 07:06:14] \"\u001b[37mPOST / HTTP/1.1\u001b[0m\" 200 -\n"
          ]
        },
        {
          "output_type": "stream",
          "name": "stdout",
          "text": [
            "{\"destination\":\"U824ef4cf00ee1105ffe2e3d2e4406673\",\"events\":[{\"type\":\"message\",\"message\":{\"type\":\"image\",\"id\":\"17224921931739\",\"contentProvider\":{\"type\":\"line\"}},\"webhookEventId\":\"01GK8TGMXA8BHGC5NG02HMN1MX\",\"deliveryContext\":{\"isRedelivery\":false},\"timestamp\":1669964780097,\"source\":{\"type\":\"user\",\"userId\":\"Uc730ee660b50e0fe512c9dd1b5d5b501\"},\"replyToken\":\"955a913daf984ddfa3f9f53f2dbade3a\",\"mode\":\"active\"}]}\n"
          ]
        },
        {
          "output_type": "display_data",
          "data": {
            "text/plain": [
              "<PIL.Image.Image image mode=RGB size=50x50 at 0x7F458B4DD100>"
            ],
            "image/png": "[encoded data removed]"
          },
          "metadata": {}
        },
        {
          "output_type": "display_data",
          "data": {
            "text/plain": [
              "<PIL.Image.Image image mode=RGB size=50x50 at 0x7F458B4DD100>"
            ],
            "image/png": "[encoded data removed]"
          },
          "metadata": {}
        },
        {
          "output_type": "stream",
          "name": "stderr",
          "text": [
            "INFO:werkzeug:127.0.0.1 - - [02/Dec/2022 07:06:24] \"\u001b[37mPOST / HTTP/1.1\u001b[0m\" 200 -\n"
          ]
        },
        {
          "output_type": "stream",
          "name": "stdout",
          "text": [
            "{\"destination\":\"U824ef4cf00ee1105ffe2e3d2e4406673\",\"events\":[{\"type\":\"message\",\"message\":{\"type\":\"image\",\"id\":\"17224922844182\",\"contentProvider\":{\"type\":\"line\"}},\"webhookEventId\":\"01GK8TH0F24ESYXWQ3KDNPQ3QN\",\"deliveryContext\":{\"isRedelivery\":false},\"timestamp\":1669964792016,\"source\":{\"type\":\"user\",\"userId\":\"Uc730ee660b50e0fe512c9dd1b5d5b501\"},\"replyToken\":\"9a71b92d2866475998f070bcb095ac60\",\"mode\":\"active\"}]}\n"
          ]
        },
        {
          "output_type": "display_data",
          "data": {
            "text/plain": [
              "<PIL.Image.Image image mode=RGB size=50x50 at 0x7F458B4DD460>"
            ],
            "image/png": "[encoded data removed]"
          },
          "metadata": {}
        },
        {
          "output_type": "display_data",
          "data": {
            "text/plain": [
              "<PIL.Image.Image image mode=RGB size=50x50 at 0x7F458B4DD970>"
            ],
            "image/png": "[encoded data removed]"
          },
          "metadata": {}
        },
        {
          "output_type": "stream",
          "name": "stderr",
          "text": [
            "INFO:werkzeug:127.0.0.1 - - [02/Dec/2022 07:06:35] \"\u001b[37mPOST / HTTP/1.1\u001b[0m\" 200 -\n"
          ]
        }
      ]
    }
  ]
}