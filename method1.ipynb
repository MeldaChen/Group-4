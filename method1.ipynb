{
  "nbformat": 4,
  "nbformat_minor": 0,
  "metadata": {
    "colab": {
      "provenance": [],
      "mount_file_id": "1WKf0LXWw2-7NXd7Q7Pd-yt5PS_fOOjTX",
      "authorship_tag": "ABX9TyPk90L0/so4URi5KbQVRRRO",
      "include_colab_link": true
    },
    "kernelspec": {
      "name": "python3",
      "display_name": "Python 3"
    },
    "language_info": {
      "name": "python"
    }
  },
  "cells": [
    {
      "cell_type": "markdown",
      "metadata": {
        "id": "view-in-github",
        "colab_type": "text"
      },
      "source": [
        "<a href=\"https://colab.research.google.com/github/MeldaChen/Group-4/blob/main/method1.ipynb\" target=\"_parent\"><img src=\"https://colab.research.google.com/assets/colab-badge.svg\" alt=\"Open In Colab\"/></a>"
      ]
    },
    {
      "cell_type": "code",
      "source": [
        "import cv2\n",
        "import numpy as np\n",
        "import IPython.display as dp\n",
        "from google.colab.patches import cv2_imshow\n",
        "from PIL import ImageFont, ImageDraw, Image\n",
        "import time\n",
        "from matplotlib import pyplot as plt \n",
        "\n",
        " \n",
        "# 最簡單的以灰度直方圖作為相似比較的實現 \n",
        "def classify_gray_hist(image1,image2,size = (256,256)): \n",
        " # 先計算直方圖 \n",
        " # 幾個引數必須用方括號括起來 \n",
        " # 這裡直接用灰度圖計算直方圖，所以是使用第一個通道， \n",
        " # 也可以進行通道分離後，得到多個通道的直方圖 \n",
        " # bins 取為16 \n",
        " image1 = cv2.resize(image1,size) \n",
        " image2 = cv2.resize(image2,size) \n",
        " hist1 = cv2.calcHist([image1],[0],None,[256],[0.0,255.0]) \n",
        " hist2 = cv2.calcHist([image2],[0],None,[256],[0.0,255.0]) \n",
        " # 可以比較下直方圖 \n",
        " plt.plot(range(256),hist1,'r') \n",
        " plt.plot(range(256),hist2,'b') \n",
        " plt.show() \n",
        " # 計算直方圖的重合度 \n",
        " degree = 0 \n",
        " for i in range(len(hist1)): \n",
        "  if hist1[i] != hist2[i]: \n",
        "   degree = degree + (1 - abs(hist1[i]-hist2[i])/max(hist1[i],hist2[i])) \n",
        "  else: \n",
        "   degree = degree + 1 \n",
        " degree = degree/len(hist1) \n",
        " return degree \n",
        " \n",
        "# 計算單通道的直方圖的相似值 \n",
        "def calculate(image1,image2): \n",
        " hist1 = cv2.calcHist([image1],[0],None,[256],[0.0,255.0]) \n",
        " hist2 = cv2.calcHist([image2],[0],None,[256],[0.0,255.0]) \n",
        "  # 計算直方圖的重合度 \n",
        " degree = 0 \n",
        " for i in range(len(hist1)): \n",
        "  if hist1[i] != hist2[i]: \n",
        "   degree = degree + (1 - abs(hist1[i]-hist2[i])/max(hist1[i],hist2[i])) \n",
        "  else: \n",
        "   degree = degree + 1 \n",
        " degree = degree/len(hist1) \n",
        " return degree \n",
        " \n",
        "# 通過得到每個通道的直方圖來計算相似度 \n",
        "def classify_hist_with_split(image1,image2,size = (256,256)): \n",
        " # 將影象resize後，分離為三個通道，再計算每個通道的相似值 \n",
        " image1 = cv2.resize(image1,size) \n",
        " image2 = cv2.resize(image2,size) \n",
        " sub_image1 = cv2.split(image1) \n",
        " sub_image2 = cv2.split(image2) \n",
        " sub_data = 0 \n",
        " for im1,im2 in zip(sub_image1,sub_image2): \n",
        "  sub_data += calculate(im1,im2) \n",
        " sub_data = sub_data/3 \n",
        " return sub_data \n",
        " \n",
        "# 平均雜湊演算法計算 \n",
        "def classify_aHash(image1,image2): \n",
        " image1 = cv2.resize(image1,(8,8)) \n",
        " image2 = cv2.resize(image2,(8,8)) \n",
        " gray1 = cv2.cvtColor(image1,cv2.COLOR_BGR2GRAY) \n",
        " gray2 = cv2.cvtColor(image2,cv2.COLOR_BGR2GRAY) \n",
        " hash1 = getHash(gray1) \n",
        " hash2 = getHash(gray2) \n",
        " return Hamming_distance(hash1,hash2) \n",
        " \n",
        "def classify_pHash(image1,image2): \n",
        " image1 = cv2.resize(image1,(32,32)) \n",
        " image2 = cv2.resize(image2,(32,32)) \n",
        " gray1 = cv2.cvtColor(image1,cv2.COLOR_BGR2GRAY) \n",
        " gray2 = cv2.cvtColor(image2,cv2.COLOR_BGR2GRAY) \n",
        " # 將灰度圖轉為浮點型，再進行dct變換 \n",
        " dct1 = cv2.dct(np.float32(gray1)) \n",
        " dct2 = cv2.dct(np.float32(gray2)) \n",
        " # 取左上角的8*8，這些代表圖片的最低頻率 \n",
        " # 這個操作等價於c++中利用opencv實現的掩碼操作 \n",
        " # 在python中進行掩碼操作，可以直接這樣取出影象矩陣的某一部分 \n",
        " dct1_roi = dct1[0:8,0:8] \n",
        " dct2_roi = dct2[0:8,0:8] \n",
        " hash1 = getHash(dct1_roi) \n",
        " hash2 = getHash(dct2_roi) \n",
        " return Hamming_distance(hash1,hash2) \n",
        " \n",
        "# 輸入灰度圖，返回hash \n",
        "def getHash(image): \n",
        " avreage = np.mean(image) \n",
        " hash = [] \n",
        " for i in range(image.shape[0]): \n",
        "  for j in range(image.shape[1]): \n",
        "   if image[i,j] > avreage: \n",
        "    hash.append(1) \n",
        "   else: \n",
        "    hash.append(0) \n",
        " return hash \n",
        " \n",
        " \n",
        "# 計算漢明距離 \n",
        "def Hamming_distance(hash1,hash2): \n",
        " num = 0 \n",
        " for index in range(len(hash1)): \n",
        "  if hash1[index] != hash2[index]: \n",
        "   num += 1 \n",
        " return num \n",
        " \n",
        " \n",
        "if __name__ == '__main__': \n",
        " img1 = cv2.imread('test1.jpg') \n",
        " cv2_imshow(img1) \n",
        " img2 = cv2.imread('test2.jpg') \n",
        " cv2_imshow(img2) \n",
        " degree = classify_gray_hist(img1,img2) \n",
        " #degree = classify_hist_with_split(img1,img2) \n",
        " #degree = classify_aHash(img1,img2) \n",
        " #degree = classify_pHash(img1,img2) \n",
        " print(degree) \n",
        " cv2.waitKey(0)"
      ],
      "metadata": {
        "colab": {
          "base_uri": "https://localhost:8080/",
          "height": 483
        },
        "id": "7Xmvd6wkkWMZ",
        "outputId": "7a1f2812-357f-47ac-8a09-f7c05b92a0ff"
      },
      "execution_count": null,
      "outputs": [
        {
          "output_type": "display_data",
          "data": {
            "text/plain": [
              "<PIL.Image.Image image mode=RGB size=100x100 at 0x7F2EAC0F4C90>"
            ],
            "image/png": "[encoded data removed]"
          },
          "metadata": {}
        },
        {
          "output_type": "display_data",
          "data": {
            "text/plain": [
              "<PIL.Image.Image image mode=RGB size=100x100 at 0x7F2EAB996150>"
            ],
            "image/png": "[encoded data removed]"
          },
          "metadata": {}
        },
        {
          "output_type": "display_data",
          "data": {
            "text/plain": [
              "<Figure size 432x288 with 1 Axes>"
            ],
            "image/png": "[encoded data removed]"
          },
          "metadata": {
            "needs_background": "light"
          }
        },
        {
          "output_type": "stream",
          "name": "stdout",
          "text": [
            "[0.69307137]\n"
          ]
        }
      ]
    },
    {
      "cell_type": "code",
      "source": [],
      "metadata": {
        "id": "IspnYpS5kWR_"
      },
      "execution_count": null,
      "outputs": []
    },
    {
      "cell_type": "code",
      "source": [],
      "metadata": {
        "id": "nH7CSoPkCFw6"
      },
      "execution_count": null,
      "outputs": []
    }
  ]
}