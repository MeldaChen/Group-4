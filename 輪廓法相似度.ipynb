{
  "nbformat": 4,
  "nbformat_minor": 0,
  "metadata": {
    "colab": {
      "provenance": [],
      "authorship_tag": "ABX9TyNBtWqQAfAHmB15K9jiUy52",
      "include_colab_link": true
    },
    "kernelspec": {
      "name": "python3",
      "display_name": "Python 3"
    },
    "language_info": {
      "name": "python"
    }
  },
  "cells": [
    {
      "cell_type": "markdown",
      "metadata": {
        "id": "view-in-github",
        "colab_type": "text"
      },
      "source": [
        "<a href=\"https://colab.research.google.com/github/MeldaChen/Group-4/blob/main/%E8%BC%AA%E5%BB%93%E6%B3%95%E7%9B%B8%E4%BC%BC%E5%BA%A6.ipynb\" target=\"_parent\"><img src=\"https://colab.research.google.com/assets/colab-badge.svg\" alt=\"Open In Colab\"/></a>"
      ]
    },
    {
      "cell_type": "code",
      "execution_count": 1,
      "metadata": {
        "colab": {
          "base_uri": "https://localhost:8080/",
          "height": 276
        },
        "id": "cVXooQjXa3Z7",
        "outputId": "acf143ea-a15b-4a36-8856-e8bd2aad970d"
      },
      "outputs": [
        {
          "output_type": "stream",
          "name": "stdout",
          "text": [
            "o1.shape= (50, 50, 3)\n",
            "o2.shape= (50, 50, 3)\n",
            "o3.shape= (50, 50, 3)\n",
            "相同图像的matchShape= 0.0\n",
            "相似图像的matchShape= 0.00046202643155318635\n",
            "不相似图像的matchShape= 0.0016575108732048704\n"
          ]
        },
        {
          "output_type": "display_data",
          "data": {
            "text/plain": [
              "<PIL.Image.Image image mode=RGB size=50x50 at 0x7F7BE1AF5BD0>"
            ],
            "image/png": "[encoded data removed]"
          },
          "metadata": {}
        },
        {
          "output_type": "display_data",
          "data": {
            "text/plain": [
              "<PIL.Image.Image image mode=RGB size=50x50 at 0x7F7BE1A7D850>"
            ],
            "image/png": "[encoded data removed]"
          },
          "metadata": {}
        },
        {
          "output_type": "display_data",
          "data": {
            "text/plain": [
              "<PIL.Image.Image image mode=RGB size=50x50 at 0x7F7BE1AF5C10>"
            ],
            "image/png": "[encoded data removed]"
          },
          "metadata": {}
        }
      ],
      "source": [
        "# 輪廓法比相似度，分數越小越像\n",
        "\n",
        "import cv2\n",
        "from google.colab.patches import cv2_imshow\n",
        "#--------------读取3幅原始图像--------------------\n",
        "o1 = cv2.imread('人_001.png', 1)\n",
        "o2 = cv2.imread('人_002.png', 1)\n",
        "o3 = cv2.imread('永_001.png', 1) \n",
        "#----------打印3幅原始图像的shape属性值-------------\n",
        "print(\"o1.shape=\",o1.shape)\n",
        "print(\"o2.shape=\",o2.shape)\n",
        "print(\"o3.shape=\",o3.shape)\n",
        "#--------------色彩空间转换-------------------- \n",
        "gray1 = cv2.cvtColor(o1,cv2.COLOR_BGR2GRAY) \n",
        "gray2 = cv2.cvtColor(o2,cv2.COLOR_BGR2GRAY) \n",
        "gray3 = cv2.cvtColor(o3,cv2.COLOR_BGR2GRAY) \n",
        "#-------------进行Hu矩匹配--------------------\n",
        "ret0 = cv2.matchShapes(gray1,gray1,1,0.0)\n",
        "ret1 = cv2.matchShapes(gray1,gray2,1,0.0)\n",
        "ret2 = cv2.matchShapes(gray1,gray3,1,0.0)\n",
        "#--------------打印差值--------------------\n",
        "print(\"相同图像的matchShape=\",ret0)\n",
        "print(\"相似图像的matchShape=\",ret1)\n",
        "print(\"不相似图像的matchShape=\",ret2)\n",
        "#--------------显示3幅原始图像--------------------\n",
        "cv2_imshow(o1)\n",
        "cv2_imshow(o2)\n",
        "cv2_imshow(o3)\n",
        "\n"
      ]
    }
  ]
}