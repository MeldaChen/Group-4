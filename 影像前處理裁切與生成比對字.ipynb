{
  "nbformat": 4,
  "nbformat_minor": 0,
  "metadata": {
    "colab": {
      "provenance": [],
      "mount_file_id": "1yVeHq7_zyYoZ5eGX1VzofDzD7YDE7qIy",
      "authorship_tag": "ABX9TyOIu3kIwjg07MPTTywByJSO",
      "include_colab_link": true
    },
    "kernelspec": {
      "name": "python3",
      "display_name": "Python 3"
    },
    "language_info": {
      "name": "python"
    }
  },
  "cells": [
    {
      "cell_type": "markdown",
      "metadata": {
        "id": "view-in-github",
        "colab_type": "text"
      },
      "source": [
        "<a href=\"https://colab.research.google.com/github/MeldaChen/Group-4/blob/main/%E5%BD%B1%E5%83%8F%E5%89%8D%E8%99%95%E7%90%86%E8%A3%81%E5%88%87%E8%88%87%E7%94%9F%E6%88%90%E6%AF%94%E5%B0%8D%E5%AD%97.ipynb\" target=\"_parent\"><img src=\"https://colab.research.google.com/assets/colab-badge.svg\" alt=\"Open In Colab\"/></a>"
      ]
    },
    {
      "cell_type": "code",
      "source": [
        "import cv2\n",
        "import numpy as np\n",
        "import IPython.display as dp\n",
        "from google.colab.patches import cv2_imshow\n",
        "from PIL import ImageFont, ImageDraw, Image\n",
        "\n",
        "\n",
        "m1 = cv2.imread('A003.jpg', 1)\n",
        "\n",
        "copy = m1.copy()\n",
        "\n",
        "erode = cv2.erode(copy, np.ones((30, 30))) #抓字\n",
        "\n",
        "gray = cv2.cvtColor(copy, cv2.COLOR_BGR2GRAY) #轉灰階\n",
        "\n",
        "blur = cv2.GaussianBlur(gray,(5,5),0)   #模糊化\n",
        "\n",
        "\n",
        "canny = cv2.Canny(blur, 70, 210)\n",
        "\n",
        "th, canny = cv2.threshold(canny, 10, 255, cv2.THRESH_BINARY)\n",
        "\n",
        "morph = cv2.morphologyEx(canny, cv2.MORPH_GRADIENT, np.ones((10, 10))) \n",
        "p, t = cv2.findContours(morph, cv2.RETR_EXTERNAL, cv2.CHAIN_APPROX_SIMPLE)\n",
        " \n",
        "if len(p)== 1:\n",
        "    x, y, w, h = cv2.boundingRect(p[0]) \n",
        "    cv2.rectangle(m1, (x,y), (x+w, y+h), (255, 255, 255), 2) #框線改白色\n",
        "    cv2.imwrite(\"capture.png\", m1[y : y + h, x : x + w]) #將框起來的地方存成capture.png\n",
        "\n",
        "else:\n",
        "  print(\"請靠近文字再拍攝一次\")\n"
      ],
      "metadata": {
        "id": "eiQrObu-TsAk",
        "colab": {
          "base_uri": "https://localhost:8080/",
          "height": 245
        },
        "outputId": "892cbf1e-0126-413a-a38a-80747493054f"
      },
      "execution_count": null,
      "outputs": [
        {
          "output_type": "error",
          "ename": "AttributeError",
          "evalue": "ignored",
          "traceback": [
            "\u001b[0;31m---------------------------------------------------------------------------\u001b[0m",
            "\u001b[0;31mAttributeError\u001b[0m                            Traceback (most recent call last)",
            "\u001b[0;32m<ipython-input-1-dae48e8f2572>\u001b[0m in \u001b[0;36m<module>\u001b[0;34m\u001b[0m\n\u001b[1;32m      8\u001b[0m \u001b[0mm1\u001b[0m \u001b[0;34m=\u001b[0m \u001b[0mcv2\u001b[0m\u001b[0;34m.\u001b[0m\u001b[0mimread\u001b[0m\u001b[0;34m(\u001b[0m\u001b[0;34m'A003.jpg'\u001b[0m\u001b[0;34m,\u001b[0m \u001b[0;36m1\u001b[0m\u001b[0;34m)\u001b[0m\u001b[0;34m\u001b[0m\u001b[0;34m\u001b[0m\u001b[0m\n\u001b[1;32m      9\u001b[0m \u001b[0;34m\u001b[0m\u001b[0m\n\u001b[0;32m---> 10\u001b[0;31m \u001b[0mcopy\u001b[0m \u001b[0;34m=\u001b[0m \u001b[0mm1\u001b[0m\u001b[0;34m.\u001b[0m\u001b[0mcopy\u001b[0m\u001b[0;34m(\u001b[0m\u001b[0;34m)\u001b[0m\u001b[0;34m\u001b[0m\u001b[0;34m\u001b[0m\u001b[0m\n\u001b[0m\u001b[1;32m     11\u001b[0m \u001b[0;34m\u001b[0m\u001b[0m\n\u001b[1;32m     12\u001b[0m \u001b[0merode\u001b[0m \u001b[0;34m=\u001b[0m \u001b[0mcv2\u001b[0m\u001b[0;34m.\u001b[0m\u001b[0merode\u001b[0m\u001b[0;34m(\u001b[0m\u001b[0mcopy\u001b[0m\u001b[0;34m,\u001b[0m \u001b[0mnp\u001b[0m\u001b[0;34m.\u001b[0m\u001b[0mones\u001b[0m\u001b[0;34m(\u001b[0m\u001b[0;34m(\u001b[0m\u001b[0;36m30\u001b[0m\u001b[0;34m,\u001b[0m \u001b[0;36m30\u001b[0m\u001b[0;34m)\u001b[0m\u001b[0;34m)\u001b[0m\u001b[0;34m)\u001b[0m \u001b[0;31m#抓字\u001b[0m\u001b[0;34m\u001b[0m\u001b[0;34m\u001b[0m\u001b[0m\n",
            "\u001b[0;31mAttributeError\u001b[0m: 'NoneType' object has no attribute 'copy'"
          ]
        }
      ]
    },
    {
      "cell_type": "code",
      "source": [
        "import cv2\n",
        "from google.colab.patches import cv2_imshow\n",
        "from PIL import ImageFont, ImageDraw, Image\n",
        "\n",
        "capture_img = cv2.imread('capture.png', 1)\n",
        "\n",
        "resize_capture = cv2.resize(capture_img, (50, 50), interpolation=cv2.INTER_AREA)\n",
        "cv2.imwrite(\"resize_capture.png\", resize_capture) #存成 50*50 的手寫字\n",
        "\n",
        "compare_word = np.full((50, 50, 3), (255, 255, 255), np.uint8) \n",
        "compare_word = Image.fromarray(compare_word)\n",
        "ImageDraw.Draw(compare_word).text((0,0),\n",
        "            (\"來\"), #要換成練習的字\n",
        "            (0, 0, 0),\n",
        "            ImageFont.truetype(\"ThePeakFontBeta_V0_101.ttf\", 50)  #要上傳字體\n",
        ")\n",
        "compare_word = np.array(compare_word)\n",
        "cv2.imwrite(\"compare.png\", compare_word) # 生成的字存成 compare.png，要再取一次輪廓\n",
        "\n",
        "compare_img = cv2.imread('compare.png', 1) \n",
        "\n",
        "copy = compare_img.copy()\n",
        "\n",
        "# erode = cv2.erode(copy, np.ones((30, 30)))  \n",
        "\n",
        "# blur = cv2.GaussianBlur(erode,(5,5),0) \n",
        "\n",
        "canny = cv2.Canny(copy, 70, 210)\n",
        "\n",
        "th, canny = cv2.threshold(canny, 10, 255, cv2.THRESH_BINARY)\n",
        "\n",
        "morph = cv2.morphologyEx(canny, cv2.MORPH_GRADIENT, np.ones((10, 10))) \n",
        "p, t = cv2.findContours(morph, cv2.RETR_EXTERNAL, cv2.CHAIN_APPROX_SIMPLE)\n",
        "x, y, w, h = cv2.boundingRect(p[0]) \n",
        "cv2.rectangle(compare_img, (x,y), (x+w, y+h), (255, 255, 255), 2)  #框線改白色\n",
        "cv2.imwrite(\"compare2.png\", compare_img[y : y + h, x : x + w]) #要再resize\n",
        "\n",
        "compare2_img = cv2.imread('compare2.png', 1)\n",
        "\n",
        "resize_compare = cv2.resize(compare2_img, (50, 50), interpolation=cv2.INTER_AREA)\n",
        "cv2.imwrite(\"resize_compare.png\", resize_compare) #存成 50*50 的比對字\n",
        "\n",
        "\n",
        "cv2_imshow(resize_capture)\n",
        "print(resize_capture.shape)\n",
        "cv2_imshow(resize_compare)\n",
        "print(resize_compare.shape) # 最後請用resize_capture.png 跟resize_compare.png 比對分數\n"
      ],
      "metadata": {
        "colab": {
          "base_uri": "https://localhost:8080/",
          "height": 153
        },
        "id": "SF4oXB9cZoiJ",
        "outputId": "ca5cb678-4f31-4a1d-81b9-ce76a5a12aa5"
      },
      "execution_count": null,
      "outputs": [
        {
          "output_type": "display_data",
          "data": {
            "text/plain": [
              "<PIL.Image.Image image mode=RGB size=50x50 at 0x7FEEDFB35E50>"
            ],
            "image/png": "[encoded data removed]"
          },
          "metadata": {}
        },
        {
          "output_type": "stream",
          "name": "stdout",
          "text": [
            "(50, 50, 3)\n"
          ]
        },
        {
          "output_type": "display_data",
          "data": {
            "text/plain": [
              "<PIL.Image.Image image mode=RGB size=50x50 at 0x7FEEDFB35E90>"
            ],
            "image/png": "[encoded data removed]"
          },
          "metadata": {}
        },
        {
          "output_type": "stream",
          "name": "stdout",
          "text": [
            "(50, 50, 3)\n"
          ]
        }
      ]
    }
  ]
}