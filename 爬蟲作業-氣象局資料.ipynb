{
  "nbformat": 4,
  "nbformat_minor": 0,
  "metadata": {
    "colab": {
      "provenance": [],
      "authorship_tag": "ABX9TyOQpNxEguDPDaPIMHCg0+Yh",
      "include_colab_link": true
    },
    "kernelspec": {
      "name": "python3",
      "display_name": "Python 3"
    },
    "language_info": {
      "name": "python"
    }
  },
  "cells": [
    {
      "cell_type": "markdown",
      "metadata": {
        "id": "view-in-github",
        "colab_type": "text"
      },
      "source": [
        "<a href=\"https://colab.research.google.com/github/MeldaChen/Group-4/blob/main/%E7%88%AC%E8%9F%B2%E4%BD%9C%E6%A5%AD-%E6%B0%A3%E8%B1%A1%E5%B1%80%E8%B3%87%E6%96%99.ipynb\" target=\"_parent\"><img src=\"https://colab.research.google.com/assets/colab-badge.svg\" alt=\"Open In Colab\"/></a>"
      ]
    },
    {
      "cell_type": "code",
      "execution_count": null,
      "metadata": {
        "colab": {
          "base_uri": "https://localhost:8080/"
        },
        "id": "jpYzo0ANpxdW",
        "outputId": "343b7072-52fd-44e1-8aa0-3e138efa2920"
      },
      "outputs": [
        {
          "output_type": "stream",
          "name": "stdout",
          "text": [
            "+--------+------+\n",
            "|  地區  | 氣溫 |\n",
            "+--------+------+\n",
            "| 基隆市 | 27.6 |\n",
            "| 臺北市 | 30.5 |\n",
            "| 新北市 | 30.6 |\n",
            "| 桃園市 | 31.3 |\n",
            "| 新竹市 | 31.1 |\n",
            "| 新竹縣 | 32.4 |\n",
            "| 苗栗縣 | 32.8 |\n",
            "| 臺中市 | 33.7 |\n",
            "| 彰化縣 | 33.9 |\n",
            "| 南投縣 | 35.5 |\n",
            "| 雲林縣 | 34.5 |\n",
            "| 嘉義市 | 35.4 |\n",
            "| 嘉義縣 | 33.8 |\n",
            "| 臺南市 | 35.3 |\n",
            "| 高雄市 | 35.6 |\n",
            "| 屏東縣 | 34.9 |\n",
            "| 宜蘭縣 | 29.7 |\n",
            "| 花蓮縣 | 34.2 |\n",
            "| 臺東縣 | 33.5 |\n",
            "| 澎湖縣 | 31.2 |\n",
            "| 金門縣 | 29.9 |\n",
            "| 連江縣 | 26.0 |\n",
            "+--------+------+\n"
          ]
        }
      ],
      "source": [
        "import requests\n",
        "import prettytable\n",
        "from bs4 import BeautifulSoup\n",
        "import prettytable as pt\n",
        "\n",
        "r1 = requests.get(\"https://www.cwb.gov.tw/V8/C/W/TemperatureTop/County_TMax_T.html\")\n",
        "\n",
        "p1 = BeautifulSoup(r1.text, \"html.parser\")\n",
        "\n",
        "area = []\n",
        "data1 = p1.find_all(\"th\",{\"scope\": \"row\"})\n",
        "for d1 in data1:\n",
        "  area.append(d1.text)\n",
        "list1=area\n",
        "\n",
        "\n",
        "temp = []\n",
        "data2 = p1.find_all(\"span\",{\"class\": \"tem-C is-active\"})\n",
        "for d2 in data2:\n",
        "  temp.append(d2.text)\n",
        "list2=temp\n",
        "\n",
        "\n",
        "from prettytable import PrettyTable\n",
        "\n",
        "x = PrettyTable()\n",
        "\n",
        "column_names = [\"地區\", \"氣溫\"]\n",
        "\n",
        "x.add_column(column_names[0], list1)\n",
        "x.add_column(column_names[1], list2)  \n",
        "\n",
        "print(x)"
      ]
    }
  ]
}