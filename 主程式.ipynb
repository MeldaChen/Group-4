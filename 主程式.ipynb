{
  "nbformat": 4,
  "nbformat_minor": 0,
  "metadata": {
    "colab": {
      "provenance": [],
      "authorship_tag": "ABX9TyPDXva33gABz3jkxws+zAr5",
      "include_colab_link": true
    },
    "kernelspec": {
      "name": "python3",
      "display_name": "Python 3"
    },
    "language_info": {
      "name": "python"
    }
  },
  "cells": [
    {
      "cell_type": "markdown",
      "metadata": {
        "id": "view-in-github",
        "colab_type": "text"
      },
      "source": [
        "<a href=\"https://colab.research.google.com/github/MeldaChen/Group-4/blob/main/%E4%B8%BB%E7%A8%8B%E5%BC%8F.ipynb\" target=\"_parent\"><img src=\"https://colab.research.google.com/assets/colab-badge.svg\" alt=\"Open In Colab\"/></a>"
      ]
    },
    {
      "cell_type": "code",
      "source": [
        "import cv2\n",
        "import numpy as np\n",
        "import IPython.display as dp\n",
        "from google.colab.patches import cv2_imshow\n",
        "from PIL import ImageFont, ImageDraw, Image\n",
        "\n",
        "\n",
        "m1 = cv2.imread('A036.jpg', 1)\n",
        "\n",
        "copy = m1.copy()\n",
        "\n",
        "m1_g = cv2.cvtColor(m1, cv2.COLOR_BGR2GRAY) # 手寫字轉灰階\n",
        "\n",
        "ret, m1_new = cv2.threshold(m1_g, 127, 255, cv2.THRESH_BINARY) # 手寫字轉黑底白字 \n",
        "\n",
        "erode = cv2.erode(copy, np.ones((30, 30))) #抓字\n",
        "\n",
        "gray = cv2.cvtColor(copy, cv2.COLOR_BGR2GRAY) #轉灰階\n",
        "\n",
        "blur = cv2.GaussianBlur(gray,(5,5),0)   #模糊化\n",
        "\n",
        "\n",
        "canny = cv2.Canny(blur, 70, 210)\n",
        "\n",
        "th, canny = cv2.threshold(canny, 10, 255, cv2.THRESH_BINARY)\n",
        "\n",
        "morph = cv2.morphologyEx(canny, cv2.MORPH_GRADIENT, np.ones((10, 10))) \n",
        "p, t = cv2.findContours(morph, cv2.RETR_EXTERNAL, cv2.CHAIN_APPROX_SIMPLE)\n",
        "\n",
        "if len(p)== 1:\n",
        "    x, y, w, h = cv2.boundingRect(p[0]) \n",
        "    cv2.rectangle(m1_new, (x,y), (x+w, y+h), (255, 255, 255), 2) #框線改白色\n",
        "    cv2.imwrite(\"capture.png\", m1_new[y : y + h, x : x + w]) #將框起來的地方存成capture.png\n",
        "\n",
        "else:\n",
        "  print(\"請靠近文字再拍攝一次\")\n"
      ],
      "metadata": {
        "id": "eiQrObu-TsAk"
      },
      "execution_count": 28,
      "outputs": []
    },
    {
      "cell_type": "code",
      "source": [
        "import cv2\n",
        "import numpy as np\n",
        "from google.colab.patches import cv2_imshow\n",
        "\n",
        "y_dict = {0:\"者\",1:\"我\",2:\"國\",3:\"來\",4:\"面\",5:\"過\",6:\"為\",7:\"大\",8:\"成\",9:\"民\"}\n",
        "m = cv2.ml.KNearest_load('tch_knn.xml')   # 載入模型\n",
        "m1 = cv2.imread(\"capture.png\", 0)\n",
        "ret, m1 = cv2.threshold(m1, 127, 255, cv2.THRESH_BINARY_INV)\n",
        "m1 = cv2.resize(m1,(50, 50))\n",
        "cv2_imshow(m1)\n",
        "\n",
        "m1 = m1.astype(np.float32)    # 轉換格式\n",
        "m1 = m1.reshape(-1)          # 打散成一維陣列資料，轉換成辨識使用的格式\n",
        "m1 = m1.reshape(1,-1)\n",
        "m1 = m1/255\n",
        "\n",
        "img_pre = m.predict(m1)          # 進行辨識\n",
        "\n",
        "text = int(img_pre[1][0][0])        # 取得辨識結果\n",
        "\n",
        "print(y_dict[text])"
      ],
      "metadata": {
        "colab": {
          "base_uri": "https://localhost:8080/",
          "height": 85
        },
        "id": "cA51ygOyomNQ",
        "outputId": "e5c04f66-6c8b-4218-ac8b-2d385ccf07ed"
      },
      "execution_count": 29,
      "outputs": [
        {
          "output_type": "display_data",
          "data": {
            "text/plain": [
              "<PIL.Image.Image image mode=L size=50x50 at 0x7FB0735AE910>"
            ],
            "image/png": "[encoded data removed]"
          },
          "metadata": {}
        },
        {
          "output_type": "stream",
          "name": "stdout",
          "text": [
            "大\n"
          ]
        }
      ]
    },
    {
      "cell_type": "code",
      "source": [
        "import cv2\n",
        "from google.colab.patches import cv2_imshow\n",
        "from PIL import ImageFont, ImageDraw, Image\n",
        "\n",
        "capture_img = cv2.imread('capture.png', 1)\n",
        "\n",
        "resize_capture = cv2.resize(capture_img, (50, 50), interpolation=cv2.INTER_AREA)\n",
        "cv2.imwrite(\"resize_capture.png\", resize_capture) #存成 50*50 的手寫字\n",
        "\n",
        "compare_word = np.full((50, 50, 3), (255, 255, 255), np.uint8) \n",
        "compare_word = Image.fromarray(compare_word)\n",
        "ImageDraw.Draw(compare_word).text((0,0),\n",
        "            (y_dict[text]),\n",
        "            (0, 0, 0),\n",
        "            ImageFont.truetype(\"ThePeakFontBeta_V0_101.ttf\", 50)  #要上傳字體\n",
        ")\n",
        "compare_word = np.array(compare_word)\n",
        "cv2.imwrite(\"compare.png\", compare_word) # 生成的字存成 compare.png，要再取一次輪廓\n",
        "\n",
        "compare_img = cv2.imread('compare.png', 1) \n",
        "\n",
        "copy = compare_img.copy()\n",
        "\n",
        "# erode = cv2.erode(copy, np.ones((30, 30)))  \n",
        "\n",
        "# blur = cv2.GaussianBlur(erode,(5,5),0) \n",
        "\n",
        "canny = cv2.Canny(copy, 70, 210)\n",
        "\n",
        "th, canny = cv2.threshold(canny, 10, 255, cv2.THRESH_BINARY)\n",
        "\n",
        "morph = cv2.morphologyEx(canny, cv2.MORPH_GRADIENT, np.ones((10, 10))) \n",
        "p, t = cv2.findContours(morph, cv2.RETR_EXTERNAL, cv2.CHAIN_APPROX_SIMPLE)\n",
        "x, y, w, h = cv2.boundingRect(p[0]) \n",
        "cv2.rectangle(compare_img, (x,y), (x+w, y+h), (255, 255, 255), 2)  #框線改白色\n",
        "cv2.imwrite(\"compare2.png\", compare_img[y : y + h, x : x + w]) #要再resize\n",
        "\n",
        "compare2_img = cv2.imread('compare2.png', 1)\n",
        "\n",
        "resize_compare = cv2.resize(compare2_img, (50, 50), interpolation=cv2.INTER_AREA)\n",
        "cv2.imwrite(\"resize_compare.png\", resize_compare) #存成 50*50 的比對字 \n",
        "\n"
      ],
      "metadata": {
        "colab": {
          "base_uri": "https://localhost:8080/"
        },
        "id": "SF4oXB9cZoiJ",
        "outputId": "2c93f980-7f3a-413b-d413-13624b10ca2e"
      },
      "execution_count": 30,
      "outputs": [
        {
          "output_type": "execute_result",
          "data": {
            "text/plain": [
              "True"
            ]
          },
          "metadata": {},
          "execution_count": 30
        }
      ]
    },
    {
      "cell_type": "code",
      "source": [
        "import cv2\n",
        "import numpy as np\n",
        "import IPython.display as dp\n",
        "from google.colab.patches import cv2_imshow\n",
        "from PIL import ImageFont, ImageDraw, Image\n",
        "import time\n",
        "from matplotlib import pyplot as plt \n",
        "\n",
        " \n",
        "# 最簡單的以灰度直方圖作為相似比較的實現 \n",
        "def classify_gray_hist(image1,image2,size = (256,256)): \n",
        " # 先計算直方圖 \n",
        " # 幾個引數必須用方括號括起來 \n",
        " # 這裡直接用灰度圖計算直方圖，所以是使用第一個通道， \n",
        " # 也可以進行通道分離後，得到多個通道的直方圖 \n",
        " # bins 取為16 \n",
        " image1 = cv2.resize(image1,size) \n",
        " image2 = cv2.resize(image2,size) \n",
        " hist1 = cv2.calcHist([image1],[0],None,[256],[0.0,255.0]) \n",
        " hist2 = cv2.calcHist([image2],[0],None,[256],[0.0,255.0]) \n",
        "\n",
        " # 計算直方圖的重合度 \n",
        " degree = 0 \n",
        " for i in range(len(hist1)): \n",
        "  if hist1[i] != hist2[i]: \n",
        "   degree = degree + (1 - abs(hist1[i]-hist2[i])/max(hist1[i],hist2[i])) \n",
        "  else: \n",
        "   degree = degree + 1 \n",
        " degree = degree/len(hist1) \n",
        " return degree \n",
        " \n",
        "# 計算單通道的直方圖的相似值 \n",
        "def calculate(image1,image2): \n",
        " hist1 = cv2.calcHist([image1],[0],None,[256],[0.0,255.0]) \n",
        " hist2 = cv2.calcHist([image2],[0],None,[256],[0.0,255.0]) \n",
        "  # 計算直方圖的重合度 \n",
        " degree = 0 \n",
        " for i in range(len(hist1)): \n",
        "  if hist1[i] != hist2[i]: \n",
        "   degree = degree + (1 - abs(hist1[i]-hist2[i])/max(hist1[i],hist2[i])) \n",
        "  else: \n",
        "   degree = degree + 1 \n",
        " degree = degree/len(hist1) \n",
        " return degree \n",
        " \n",
        "# 通過得到每個通道的直方圖來計算相似度 \n",
        "def classify_hist_with_split(image1,image2,size = (256,256)): \n",
        " # 將影象resize後，分離為三個通道，再計算每個通道的相似值 \n",
        " image1 = cv2.resize(image1,size) \n",
        " image2 = cv2.resize(image2,size) \n",
        " sub_image1 = cv2.split(image1) \n",
        " sub_image2 = cv2.split(image2) \n",
        " sub_data = 0 \n",
        " for im1,im2 in zip(sub_image1,sub_image2): \n",
        "  sub_data += calculate(im1,im2) \n",
        " sub_data = sub_data/3 \n",
        " return sub_data \n",
        " \n",
        " \n",
        "if __name__ == '__main__': \n",
        " img1 = cv2.imread('resize_compare.png') \n",
        " cv2_imshow(img1) \n",
        " img2 = cv2.imread('resize_capture.png') \n",
        " cv2_imshow(img2) \n",
        " degree1 = classify_gray_hist(img1,img2) \n",
        "\n",
        " print(\"你的分數是\", int(degree1*100), \"分\") \n",
        "  \n",
        " "
      ],
      "metadata": {
        "colab": {
          "base_uri": "https://localhost:8080/",
          "height": 135
        },
        "id": "C_nQsmfRkC41",
        "outputId": "96790d2f-0184-40fc-c5af-287bc0f74b01"
      },
      "execution_count": 31,
      "outputs": [
        {
          "output_type": "display_data",
          "data": {
            "text/plain": [
              "<PIL.Image.Image image mode=RGB size=50x50 at 0x7FB0735AE110>"
            ],
            "image/png": "[encoded data removed]"
          },
          "metadata": {}
        },
        {
          "output_type": "display_data",
          "data": {
            "text/plain": [
              "<PIL.Image.Image image mode=RGB size=50x50 at 0x7FB0735AE110>"
            ],
            "image/png": "[encoded data removed]"
          },
          "metadata": {}
        },
        {
          "output_type": "stream",
          "name": "stdout",
          "text": [
            "你的分數是 60 分\n"
          ]
        }
      ]
    }
  ]
}